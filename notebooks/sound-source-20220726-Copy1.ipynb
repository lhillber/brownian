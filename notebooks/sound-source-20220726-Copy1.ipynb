{
 "cells": [
  {
   "cell_type": "code",
   "execution_count": 350,
   "id": "03bebd39",
   "metadata": {},
   "outputs": [],
   "source": [
    "from importlib import reload\n",
    "import sys\n",
    "sys.path.append(\"../src\")\n",
    "import brownian\n",
    "import time_series\n",
    "import acoustic_entrainment\n",
    "reload(brownian)\n",
    "reload(time_series)\n",
    "reload(acoustic_entrainment)\n",
    "from acoustic_entrainment import VelocityResponse, muflown_response, muflown_sensitivity, mic_response\n",
    "from time_series import find_files, find_ders, Collection, bin_func, TimeSeries\n",
    "from brownian import abc_guess, get_krhoA, psd_func, logbin_func, get_sound_speed\n",
    "from mpl_toolkits.axes_grid1.inset_locator import inset_axes\n",
    "import matplotlib.ticker as ticker\n",
    "\n",
    "from scipy.optimize import curve_fit\n",
    "import matplotlib.pyplot as plt\n",
    "import numpy as np\n",
    "\n",
    "from os import path\n",
    "\n",
    "from matplotlib import rc\n",
    "fontsize = 5\n",
    "fontstyle = {\n",
    "    \"pdf.fonttype\": 42, # type 3 pdf fonts\n",
    "    \"mathtext.default\": 'regular', # italic math\n",
    "    \"text.usetex\": True, # latex-based math\n",
    "    # sans-serif Helvetica font\n",
    "    \"text.latex.preamble\":\n",
    "        r'\\usepackage{helvet} \\usepackage{sansmath} \\sansmath',\n",
    "    \"font.family\": \"sans-serif\",\n",
    "    # font sizes\n",
    "    \"axes.labelsize\": fontsize,\n",
    "    'axes.titlesize': fontsize,\n",
    "    \"font.size\": fontsize,\n",
    "    \"legend.fontsize\": fontsize,\n",
    "    \"xtick.labelsize\": fontsize,\n",
    "    'xtick.direction': \"inout\",\n",
    "    'xtick.top': True,\n",
    "    'xtick.major.size': 4,\n",
    "    'xtick.major.width': 0.4,\n",
    "    'xtick.minor.width': 0.4,\n",
    "    \"ytick.labelsize\": fontsize,\n",
    "    'ytick.direction': \"inout\",\n",
    "    'ytick.right': True,\n",
    "    'ytick.major.size': 4,\n",
    "    'ytick.major.width': 0.4,\n",
    "    'ytick.minor.width': 0.4,\n",
    "    \"axes.linewidth\": 0.4,\n",
    "}\n",
    "plt.rcParams.update(fontstyle)"
   ]
  },
  {
   "cell_type": "markdown",
   "id": "grave-possible",
   "metadata": {},
   "source": [
    "# New function definitions"
   ]
  },
  {
   "cell_type": "code",
   "execution_count": 351,
   "id": "affected-gossip",
   "metadata": {},
   "outputs": [],
   "source": [
    "def sort_fnames(fnames, include=None, exclude=None):\n",
    "    \"\"\"\n",
    "    Sort file names of the form <path>/iter_i by the iteration index i. \n",
    "    Include files with aspecific iteration index by passing a list to include. \n",
    "    \"\"\"\n",
    "    iters = [int(fname.split(\"_\")[-1].split(\".tdms\")[0]) for fname in fnames]\n",
    "    fnames_sorted = [fname for _, fname in sorted(zip(iters, fnames))]\n",
    "    iters = sorted(iters)\n",
    "    if include is not None:\n",
    "        fnames_sorted = [fname for fname, itr in zip(fnames_sorted, iters) if itr in include]\n",
    "    if exclude is not None:\n",
    "        fnames_sorted = [fname for fname, itr in zip(fnames_sorted, iters) if itr not in exclude]\n",
    "    return fnames_sorted\n",
    "\n",
    "from constants import kB\n",
    "from scipy.integrate import cumulative_trapezoid\n",
    "\n",
    "reload(brownian)\n",
    "reload(acoustic_entrainment)\n",
    "reload(time_series)\n",
    "from acoustic_entrainment import VelocityResponse\n",
    "from time_series import Collection\n",
    "from brownian import get_params_from_abcRT, abc_guess, logbin_func, psd_func\n",
    "\n",
    "def psd_calibration(fname, channel=\"X\",\n",
    "                   fmin=5e2, fmax=4e4, cutoff=1e6,  taumax=100e-3,freq_xnoise2=2e5,\n",
    "                   plot=False, ax=None, logbin_Npts=20, color=\"k\", data_plot_kwargs={}, fit_plot_kwargs={}):\n",
    "    if plot:\n",
    "        if ax is None:\n",
    "            fig, ax = plt.subplots(1,1, figsize=(6,4))\n",
    "        else:\n",
    "            fig = plt.gcf()\n",
    "        #axins = inset_axes(ax, width=\"45%\", height=\"40%\", loc=\"lower left\", borderpad=2.3)\n",
    "    C = Collection(fname)\n",
    "    C.set_collection(channel)\n",
    "    Tavg = np.mean(C.T)\n",
    "    if Tavg < 273.15:\n",
    "        Tavg += 273.15\n",
    "    Npts = int(C.r / (2*cutoff))\n",
    "    C.apply(\"detrend\", inplace=True, mode=\"constant\")\n",
    "    #C.apply(\"lowpass\", cutoff=cutoff, order=3, inplace=True)\n",
    "    C.apply(\"bin_average\", Npts=Npts, inplace=True)\n",
    "    freq, psd = C.average(\"PSD\", window=\"hamming\", taumax=taumax)\n",
    "    mask = np.logical_and(freq>fmin, freq<fmax)\n",
    "    abc, abc_cov = abc_guess(freq[mask], psd[mask], n=C.Navg_psd)\n",
    "    cal_params = get_params_from_abcRT(*abc, C.R, Tavg)\n",
    "    C.params.update(cal_params)\n",
    "    psd *= C.cal**2\n",
    "    xnoise2 = np.mean(psd[freq>freq_xnoise2])\n",
    "    C.xnoise2 = xnoise2\n",
    "    if plot:\n",
    "        plot_freq  = logbin_func(freq, Npts=logbin_Npts)\n",
    "        plot_psd  = logbin_func(psd, Npts=logbin_Npts)\n",
    "        dplot_kwargs = dict(mec=color, mfc=\"none\", marker=\"o\", ls=\"none\")\n",
    "        dplot_kwargs.update(data_plot_kwargs)\n",
    "        ax.loglog(plot_freq[1:], plot_psd[1:], **dplot_kwargs)\n",
    "        \n",
    "        fplot_kwargs = dict(c=color)\n",
    "        fplot_kwargs.update(data_plot_kwargs)\n",
    "        ax.loglog(freq, psd_func(freq, C.k, C.rho, C.Tavg, C.R)+xnoise2, **fplot_kwargs)\n",
    "        #ax.axhline(xnoise2)\n",
    "        #ax.axvline(fmin, c=\"k\", lw=1)\n",
    "        #ax.axvline(fmax, c=\"k\", lw=1)\n",
    "        #axins.plot(freq, psd, c=color, marker=\".\", ls=\"none\")\n",
    "        #axins.set_xlim(500, 7000)\n",
    "        #axins.set_ylim(0.9e-20, 5.1e-20)\n",
    "        ax.set_ylabel(r\"PSD $\\rm (m^2 Hz^{-1})$\")\n",
    "        ax.set_xlabel(r\"Frequency (Hz)\")\n",
    "        ax.set_xlim(right=cutoff)\n",
    "        #ax.set_ylim(bottom=1e-25)\n",
    "        return C, ax\n",
    "    return C\n",
    "\n",
    "def cPSD(freq, psd, initial=None):\n",
    "    if initial is None:\n",
    "        initial = psd[0]*(freq[1]-freq[0])\n",
    "    return cumulative_trapezoid(psd, x=freq, initial=initial)\n",
    "\n",
    "def deg2rad(x):\n",
    "    return x * np.pi / 180\n",
    "\n",
    "\n",
    "def rad2deg(x):\n",
    "    return x * 180 / np.pi\n",
    "\n",
    "def radian_labels(ax, denoms=[-1, -2, 0, 2, 1], skip=1):\n",
    "    rads = [np.pi/d if d!=0 else 0 for d in denoms]\n",
    "    rad_labels = [r\"$-\\pi/%s$\" % abs(d) if d<-1 \\\n",
    "             else r\"$\\pi/%s$\" % abs(d) if d>1 \\\n",
    "             else \"$-\\pi$\" if d == -1 \\\n",
    "             else \"$\\pi$\" if d == 1 \\\n",
    "             else \"$0$\" for d in denoms]\n",
    "    return rads, rad_labels\n",
    "    \n",
    "\n",
    "def dB_re(x, ref, typ):\n",
    "    if typ == \"pressure\":\n",
    "        deci = 20.\n",
    "    elif typ == \"power\":\n",
    "        deci = 10.\n",
    "    return deci * np.log10(x/ref)\n",
    "\n",
    "def db_re_inverse(x, ref, typ):\n",
    "    if typ == \"pressure\":\n",
    "        deci = 20.\n",
    "    elif typ == \"power\":\n",
    "        deci = 10.\n",
    "    return ref * 10**(x/deci)\n",
    "\n",
    "\n",
    "def SPL(x):\n",
    "    return dB_re(x, ref=20e-6, typ=\"pressure\")\n",
    "\n",
    "\n",
    "def slope(x, m):\n",
    "    return x/m\n",
    "\n",
    "def line(x, speed, x0):\n",
    "    return (x-x0)/speed\n",
    "\n",
    "def slope_quad(x, a, b):\n",
    "    return a*x + b*x*x\n",
    "\n",
    "def powerlaw(x, a, m):\n",
    "    return a * x**m\n",
    "\n",
    "def exponential(x, a, m):\n",
    "    return a * np.e**(x/m)\n",
    "\n",
    "def find_pulse_points(time_series, tmin, tmax, factor=0.0, nozeros=False): \n",
    "    ts, xs = time_series.time_gate(tmin, tmax)\n",
    "    # trough\n",
    "    troughdex = np.argmin(xs)\n",
    "    ttrough = ts[troughdex]\n",
    "    xtrough = xs[troughdex]\n",
    "    #peak\n",
    "    peakdex = np.argmax(xs[ts<ttrough])\n",
    "    tpeak = ts[ts<ttrough][peakdex]\n",
    "    xpeak = xs[ts<ttrough][peakdex]\n",
    "    if nozeros:\n",
    "        tpoints = [0, tpeak, 0, ttrough, 0]\n",
    "        xpoints = [0, xpeak, 0, xtrough, 0]\n",
    "        return tpoints, xpoints\n",
    "        \n",
    "    # zeros\n",
    "    pre_zerodex = np.where(np.diff(np.sign(xs-factor*xpeak)))[0]\n",
    "    post_zerodex = 1 + pre_zerodex\n",
    "    t1, t2 = ts[pre_zerodex], ts[post_zerodex]\n",
    "    x1, x2 = xs[pre_zerodex], xs[post_zerodex]\n",
    "    tzeros = t1 - x1*((t2-t1)/(x2-x1))\n",
    "    ## left\n",
    "    peak_minus_zeros = tpeak - tzeros\n",
    "    left_zeros_mask = peak_minus_zeros > 0\n",
    "    left_zero = tzeros[left_zeros_mask][np.argmin(peak_minus_zeros[left_zeros_mask])]\n",
    "    ## right\n",
    "    pre_zerodex = np.where(np.diff(np.sign(xs-factor*xtrough)))[0]\n",
    "    post_zerodex = 1 + pre_zerodex\n",
    "    t1, t2 = ts[pre_zerodex], ts[post_zerodex]\n",
    "    x1, x2 = xs[pre_zerodex], xs[post_zerodex]\n",
    "    tzeros = t1 - x1*((t2-t1)/(x2-x1))\n",
    "    zeros_minus_trough = tzeros - ttrough\n",
    "    right_zeros_mask =  zeros_minus_trough > 0\n",
    "    right_zero = tzeros[right_zeros_mask][np.argmin(zeros_minus_trough[right_zeros_mask])]\n",
    "    ## middle\n",
    "    pre_zerodex = np.where(np.diff(np.sign(xs)))[0]\n",
    "    post_zerodex = 1 + pre_zerodex\n",
    "    t1, t2 = ts[pre_zerodex], ts[post_zerodex]\n",
    "    x1, x2 = xs[pre_zerodex], xs[post_zerodex]\n",
    "    tzeros = t1 - x1*((t2-t1)/(x2-x1))\n",
    "    mid_zero = tzeros[np.logical_and(tzeros>tpeak, tzeros<ttrough)][0]\n",
    "    # important points\n",
    "    tpoints = [left_zero, tpeak, mid_zero, ttrough, right_zero]\n",
    "    xpoints = [factor*xpeak, xpeak, 0, xtrough, factor*xtrough]\n",
    "    return tpoints, xpoints\n",
    "\n",
    "\n",
    "\n",
    "\n",
    "def make_musphere_response(C0, impedance=None, r0=3e-2, response=\"bassetbound\"):\n",
    "    T = np.mean(C0.T)\n",
    "    VR = VelocityResponse(1/C0.cal, C0.R, C0.rho, T, C0.cRH, C0.k)\n",
    "    if impedance is None:\n",
    "        _response = lambda f:VR.response(response, f)\n",
    "    else:\n",
    "        impedance = getattr(VR, f\"{impedance}_impedance\")\n",
    "        _response = lambda f:VR.response(response, f)/impedance(f, r0)\n",
    "    return _response\n",
    "\n",
    "def load_collection(fname, channel, response, differentiate, \n",
    "                    scale=1, cutoff=None, Npts=\"cutoff\", shift=0, invert=False, \n",
    "                    tmin=None, tmax=None, window=\"boxcar\", detrend=\"constant\"):\n",
    "    C = Collection(fname)\n",
    "    C.set_collection(channel)\n",
    "    C.apply(\"calibrate\", cal=scale, inplace=True)\n",
    "    if cutoff is not None:\n",
    "        C.apply(\"lowpass\", cutoff=cutoff, inplace=True)\n",
    "    if Npts is not None:\n",
    "        if Npts == \"cutoff\":\n",
    "            if cutoff is not None:\n",
    "                Npts=int(C.r/(2*cutoff))\n",
    "            else:\n",
    "                Npts = None\n",
    "        C.apply(\"bin_average\", Npts=Npts, inplace=True)\n",
    "    if response is not None:\n",
    "        C.apply(\"correct\", response=response, n_jobs=1, tmin=tmin, tmax=tmax, \n",
    "            window=window, differentiate=differentiate, recollect=True)\n",
    "    if response is None and differentiate:\n",
    "        C.apply(\"differentiate\", inplace=True)\n",
    "        \n",
    "    if detrend is not None:\n",
    "        C.apply(\"detrend\", mode=detrend, inplace=True)\n",
    "    C.apply(\"shift\", tau=shift, inplace=True)\n",
    "    if invert:\n",
    "        C.apply(\"calibrate\", cal=-1, inplace=True)\n",
    "    return C"
   ]
  },
  {
   "cell_type": "markdown",
   "id": "million-weight",
   "metadata": {},
   "source": [
    "# Directory structure"
   ]
  },
  {
   "cell_type": "code",
   "execution_count": 199,
   "id": "aa5e2c59",
   "metadata": {},
   "outputs": [
    {
     "data": {
      "text/plain": [
       "['/data/brownian/20220707',\n",
       " '/data/brownian/20211215',\n",
       " '/data/brownian/20220720',\n",
       " '/data/brownian/20220330',\n",
       " '/data/brownian/20220518',\n",
       " '/data/brownian/20220525',\n",
       " '/data/brownian/20220614',\n",
       " '/data/brownian/20220628',\n",
       " '/data/brownian/20220726',\n",
       " '/data/brownian/20220722',\n",
       " '/data/brownian/20220715',\n",
       " '/data/brownian/20220523']"
      ]
     },
     "execution_count": 199,
     "metadata": {},
     "output_type": "execute_result"
    }
   ],
   "source": [
    "# Data by date\n",
    "base_der = \"/data/brownian\"\n",
    "date_ders = find_ders(base_der)\n",
    "date_ders"
   ]
  },
  {
   "cell_type": "code",
   "execution_count": 19,
   "id": "liked-adventure",
   "metadata": {
    "scrolled": true
   },
   "outputs": [
    {
     "data": {
      "text/plain": [
       "['/data/brownian/20220726/bead1']"
      ]
     },
     "execution_count": 19,
     "metadata": {},
     "output_type": "execute_result"
    }
   ],
   "source": [
    "# Select a date\n",
    "date_der_index = 8\n",
    "bead_ders = find_ders(date_ders[date_der_index])\n",
    "bead_ders"
   ]
  },
  {
   "cell_type": "code",
   "execution_count": 6,
   "id": "automated-canadian",
   "metadata": {},
   "outputs": [
    {
     "data": {
      "text/plain": [
       "['/data/brownian/20220726/bead1/slow-50x-flown_4kHz-CW-V7_fos-scan',\n",
       " '/data/brownian/20220726/bead1/slow-phone_baseline_2',\n",
       " '/data/brownian/20220726/bead1/slow-phone_40kHz-N10-V9-resonant-burst-pos-scan',\n",
       " '/data/brownian/20220726/bead1/slow-phone_40kHz-CW-V9_fos-scan',\n",
       " '/data/brownian/20220726/bead1/slow-phone_4kHz-CW-V7_fos-scan',\n",
       " '/data/brownian/20220726/bead1/slow-phone_4kHz-N3-V6-resonant-burst-pos-scan',\n",
       " '/data/brownian/20220726/bead1/slow-flown-Z50_baseline_1',\n",
       " '/data/brownian/20220726/bead1/slow-50x-flown_baseline_3',\n",
       " '/data/brownian/20220726/bead1/slow-phone_baseline_1',\n",
       " '/data/brownian/20220726/bead1/slow-50x-flown_4kHz-N3-V6-resonant-burst-pos-scan',\n",
       " '/data/brownian/20220726/bead1/slow-50x-flown_40kHz-CW-V9_fos-scan-wide',\n",
       " '/data/brownian/20220726/bead1/slow-50x-flown_40kHz-N10-V9-resonant-burst-pos-scan',\n",
       " '/data/brownian/20220726/bead1/slow-50x-flown_baseline_2',\n",
       " '/data/brownian/20220726/bead1/slow-50x-flown_40kHz-CW-V9_fos-scan',\n",
       " '/data/brownian/20220726/bead1/slow-phone_40kHz-CW-V9_fos-scan-wide']"
      ]
     },
     "execution_count": 6,
     "metadata": {},
     "output_type": "execute_result"
    }
   ],
   "source": [
    "# Select a date\n",
    "bead_der_index = 0\n",
    "experiment_ders = find_ders(bead_ders[bead_der_index])\n",
    "experiment_ders"
   ]
  },
  {
   "cell_type": "markdown",
   "id": "scientific-terminal",
   "metadata": {},
   "source": [
    "# Bead calibration"
   ]
  },
  {
   "cell_type": "code",
   "execution_count": 9,
   "id": "national-vehicle",
   "metadata": {},
   "outputs": [],
   "source": [
    "baseline_experiment_index = [1,6,7,8,12]\n",
    "baseline_fnames = sort_fnames(find_files(experiment_ders[baseline_experiment_index[0]]))\n",
    "for experiment_der_index in baseline_experiment_index[1:]:\n",
    "    next_fnames = sort_fnames(find_files(experiment_ders[experiment_der_index]))\n",
    "    for fname in next_fnames:\n",
    "        baseline_fnames.append(fname)"
   ]
  },
  {
   "cell_type": "code",
   "execution_count": 10,
   "id": "constitutional-creation",
   "metadata": {},
   "outputs": [
    {
     "data": {
      "text/plain": [
       "['/data/brownian/20220726/bead1/slow-phone_baseline_2/iter_0.tdms',\n",
       " '/data/brownian/20220726/bead1/slow-phone_baseline_2/iter_1.tdms',\n",
       " '/data/brownian/20220726/bead1/slow-phone_baseline_2/iter_2.tdms',\n",
       " '/data/brownian/20220726/bead1/slow-phone_baseline_2/iter_3.tdms',\n",
       " '/data/brownian/20220726/bead1/slow-phone_baseline_2/iter_4.tdms',\n",
       " '/data/brownian/20220726/bead1/slow-phone_baseline_2/iter_5.tdms',\n",
       " '/data/brownian/20220726/bead1/slow-phone_baseline_2/iter_6.tdms',\n",
       " '/data/brownian/20220726/bead1/slow-phone_baseline_2/iter_7.tdms',\n",
       " '/data/brownian/20220726/bead1/slow-phone_baseline_2/iter_8.tdms',\n",
       " '/data/brownian/20220726/bead1/slow-phone_baseline_2/iter_9.tdms',\n",
       " '/data/brownian/20220726/bead1/slow-flown-Z50_baseline_1/iter_0.tdms',\n",
       " '/data/brownian/20220726/bead1/slow-flown-Z50_baseline_1/iter_1.tdms',\n",
       " '/data/brownian/20220726/bead1/slow-flown-Z50_baseline_1/iter_2.tdms',\n",
       " '/data/brownian/20220726/bead1/slow-flown-Z50_baseline_1/iter_3.tdms',\n",
       " '/data/brownian/20220726/bead1/slow-flown-Z50_baseline_1/iter_4.tdms',\n",
       " '/data/brownian/20220726/bead1/slow-flown-Z50_baseline_1/iter_5.tdms',\n",
       " '/data/brownian/20220726/bead1/slow-flown-Z50_baseline_1/iter_6.tdms',\n",
       " '/data/brownian/20220726/bead1/slow-flown-Z50_baseline_1/iter_7.tdms',\n",
       " '/data/brownian/20220726/bead1/slow-flown-Z50_baseline_1/iter_8.tdms',\n",
       " '/data/brownian/20220726/bead1/slow-flown-Z50_baseline_1/iter_9.tdms',\n",
       " '/data/brownian/20220726/bead1/slow-50x-flown_baseline_3/iter_0.tdms',\n",
       " '/data/brownian/20220726/bead1/slow-50x-flown_baseline_3/iter_1.tdms',\n",
       " '/data/brownian/20220726/bead1/slow-50x-flown_baseline_3/iter_2.tdms',\n",
       " '/data/brownian/20220726/bead1/slow-50x-flown_baseline_3/iter_3.tdms',\n",
       " '/data/brownian/20220726/bead1/slow-50x-flown_baseline_3/iter_4.tdms',\n",
       " '/data/brownian/20220726/bead1/slow-50x-flown_baseline_3/iter_5.tdms',\n",
       " '/data/brownian/20220726/bead1/slow-50x-flown_baseline_3/iter_6.tdms',\n",
       " '/data/brownian/20220726/bead1/slow-50x-flown_baseline_3/iter_7.tdms',\n",
       " '/data/brownian/20220726/bead1/slow-50x-flown_baseline_3/iter_8.tdms',\n",
       " '/data/brownian/20220726/bead1/slow-50x-flown_baseline_3/iter_9.tdms',\n",
       " '/data/brownian/20220726/bead1/slow-phone_baseline_1/iter_0.tdms',\n",
       " '/data/brownian/20220726/bead1/slow-phone_baseline_1/iter_1.tdms',\n",
       " '/data/brownian/20220726/bead1/slow-phone_baseline_1/iter_2.tdms',\n",
       " '/data/brownian/20220726/bead1/slow-phone_baseline_1/iter_3.tdms',\n",
       " '/data/brownian/20220726/bead1/slow-phone_baseline_1/iter_4.tdms',\n",
       " '/data/brownian/20220726/bead1/slow-phone_baseline_1/iter_5.tdms',\n",
       " '/data/brownian/20220726/bead1/slow-phone_baseline_1/iter_6.tdms',\n",
       " '/data/brownian/20220726/bead1/slow-phone_baseline_1/iter_7.tdms',\n",
       " '/data/brownian/20220726/bead1/slow-phone_baseline_1/iter_8.tdms',\n",
       " '/data/brownian/20220726/bead1/slow-phone_baseline_1/iter_9.tdms',\n",
       " '/data/brownian/20220726/bead1/slow-50x-flown_baseline_2/iter_0.tdms',\n",
       " '/data/brownian/20220726/bead1/slow-50x-flown_baseline_2/iter_1.tdms',\n",
       " '/data/brownian/20220726/bead1/slow-50x-flown_baseline_2/iter_2.tdms',\n",
       " '/data/brownian/20220726/bead1/slow-50x-flown_baseline_2/iter_3.tdms',\n",
       " '/data/brownian/20220726/bead1/slow-50x-flown_baseline_2/iter_4.tdms',\n",
       " '/data/brownian/20220726/bead1/slow-50x-flown_baseline_2/iter_5.tdms',\n",
       " '/data/brownian/20220726/bead1/slow-50x-flown_baseline_2/iter_6.tdms',\n",
       " '/data/brownian/20220726/bead1/slow-50x-flown_baseline_2/iter_7.tdms',\n",
       " '/data/brownian/20220726/bead1/slow-50x-flown_baseline_2/iter_8.tdms',\n",
       " '/data/brownian/20220726/bead1/slow-50x-flown_baseline_2/iter_9.tdms']"
      ]
     },
     "execution_count": 10,
     "metadata": {},
     "output_type": "execute_result"
    }
   ],
   "source": [
    "baseline_fnames"
   ]
  },
  {
   "cell_type": "code",
   "execution_count": 20,
   "id": "experimental-monroe",
   "metadata": {},
   "outputs": [
    {
     "name": "stdout",
     "output_type": "stream",
     "text": [
      "0 50\n",
      "1 50\n",
      "2 50\n",
      "3 50\n",
      "4 50\n",
      "5 50\n",
      "6 50\n",
      "7 50\n",
      "8 50\n",
      "9 50\n",
      "10 50\n",
      "11 50\n",
      "12 50\n",
      "13 50\n",
      "14 50\n",
      "15 50\n",
      "16 50\n",
      "17 50\n",
      "18 50\n",
      "19 50\n",
      "20 50\n",
      "21 50\n",
      "22 50\n",
      "23 50\n",
      "24 50\n",
      "25 50\n",
      "26 50\n",
      "27 50\n",
      "28 50\n",
      "29 50\n",
      "30 50\n",
      "31 50\n",
      "32 50\n",
      "33 50\n",
      "34 50\n",
      "35 50\n",
      "36 50\n",
      "37 50\n",
      "38 50\n",
      "39 50\n",
      "40 50\n",
      "41 50\n",
      "42 50\n",
      "43 50\n",
      "44 50\n",
      "45 50\n",
      "46 50\n",
      "47 50\n",
      "48 50\n",
      "49 50\n"
     ]
    },
    {
     "data": {
      "image/png": "[encoded data removed]",
      "text/plain": [
       "<Figure size 432x288 with 1 Axes>"
      ]
     },
     "metadata": {
      "needs_background": "light"
     },
     "output_type": "display_data"
    }
   ],
   "source": [
    "fmin = 1e3\n",
    "fmax = 3e4\n",
    "cutoff = 1000e3\n",
    "taumax = 20e-3\n",
    "\n",
    "fig, ax = plt.subplots(1,1, figsize=(6,4))\n",
    "\n",
    "krhoCalTs = []\n",
    "for fnamei, fname in enumerate(baseline_fnames):\n",
    "    print(fnamei, len(baseline_fnames))\n",
    "    color = f\"C{fnamei}\"\n",
    "    C0, ax = psd_calibration(fname, taumax=taumax, fmin=fmin, fmax=fmax, cutoff=cutoff, \n",
    "                             plot=True, ax=ax, color=color)\n",
    "    krhoCalTs.append([C0.k, C0.rho, C0.cal, C0.Tavg, np.mean(C0.PDF), np.mean(C0.PDB)])    \n",
    "krhoCalTs = np.array(krhoCalTs)"
   ]
  },
  {
   "cell_type": "code",
   "execution_count": 31,
   "id": "found-kazakhstan",
   "metadata": {},
   "outputs": [
    {
     "data": {
      "text/plain": [
       "80"
      ]
     },
     "execution_count": 31,
     "metadata": {},
     "output_type": "execute_result"
    }
   ],
   "source": [
    "C0.Navg_psd"
   ]
  },
  {
   "cell_type": "code",
   "execution_count": 41,
   "id": "educated-outdoors",
   "metadata": {},
   "outputs": [
    {
     "name": "stdout",
     "output_type": "stream",
     "text": [
      "k : 28.78321802369068 2.7919335637180573 9.699865947650792\n",
      "rho : 1525.239056833586 32.79479076223956 2.150141029716478\n",
      "cal : 0.249658287925231 0.02318763182134369 9.287747670643341\n",
      "T : 23.33557938794027 0.14387315407403953 0.616539883935312\n",
      "P : 93.88991163172281 0.4439925231030775 0.47288629351853034\n"
     ]
    },
    {
     "data": {
      "image/png": "[encoded data removed]",
      "text/plain": [
       "<Figure size 243x252 with 10 Axes>"
      ]
     },
     "metadata": {
      "needs_background": "light"
     },
     "output_type": "display_data"
    }
   ],
   "source": [
    "fig, axs = plt.subplots(5,2, figsize=(3.375, 3.5), gridspec_kw={\"width_ratios\":[0.8, 0.2]}, sharey=\"row\", sharex=\"col\")\n",
    "\n",
    "ylabels = [r\"$k~{\\rm (fN \\cdot nm^{-1})}$\", r\"$\\rho~{\\rm (g \\cdot cm^{-3})}$\", \n",
    "           r\"$A~{\\rm (nm \\cdot mV^{-1})}$\", r\"$T~{\\rm (^{\\circ}C)}$\", r\"$P~{\\rm (mW)}$\"]\n",
    "\n",
    "for parami, param in enumerate([\"k\", \"rho\", \"cal\", \"T\", \"P\"]):\n",
    "    vals = krhoCalTs[:, parami]\n",
    "    # units\n",
    "    if param == \"k\":\n",
    "        vals = vals * 1e15 / 1e9\n",
    "    if param ==\"cal\":\n",
    "        vals = vals * 1e9 / 1e3\n",
    "    if param == \"T\":\n",
    "        vals = vals -273.15\n",
    "    if param == \"P\":\n",
    "        vals =krhoCalTs[:, parami]+krhoCalTs[:, parami+1]\n",
    "    \n",
    "    # plot data\n",
    "    axs[parami, 0].plot(vals, marker=\".\")\n",
    "    axs[parami, 1].hist(vals, bins=5, orientation=\"horizontal\")\n",
    "    # labels\n",
    "    axs[parami, 0].set_ylabel(ylabels[parami])\n",
    "    axs[-1, 0].set_xlabel(\"Iteration index\")\n",
    "    axs[-1, 1].set_xlabel(\"Counts\")\n",
    "    \n",
    "    axs[parami, 0].yaxis.set_major_locator(ticker.MaxNLocator(4))\n",
    "    print(param, \":\", np.mean(vals), np.std(vals), 100*np.std(vals)/np.mean(vals))\n",
    "plt.tight_layout()\n",
    "R = C0.R\n",
    "plt.savefig(\"figures/calibration_summary_20220726.pdf\")\n",
    "plt.savefig(\"figures/calibration_summary_20220726.png\", dpi=600)"
   ]
  },
  {
   "cell_type": "code",
   "execution_count": 45,
   "id": "international-equity",
   "metadata": {},
   "outputs": [],
   "source": [
    "laser_delay = 1000e-6\n",
    "pos0 = 4.4\n",
    "c0 = get_sound_speed(T=C0.Tavg, RH=C0.cRH, p=C0.cP)"
   ]
  },
  {
   "cell_type": "code",
   "execution_count": 46,
   "id": "essential-syracuse",
   "metadata": {},
   "outputs": [
    {
     "data": {
      "text/plain": [
       "['/data/brownian/20220726/bead1/slow-50x-flown_4kHz-CW-V7_fos-scan',\n",
       " '/data/brownian/20220726/bead1/slow-phone_baseline_2',\n",
       " '/data/brownian/20220726/bead1/slow-phone_40kHz-N10-V9-resonant-burst-pos-scan',\n",
       " '/data/brownian/20220726/bead1/slow-phone_40kHz-CW-V9_fos-scan',\n",
       " '/data/brownian/20220726/bead1/slow-phone_4kHz-CW-V7_fos-scan',\n",
       " '/data/brownian/20220726/bead1/slow-phone_4kHz-N3-V6-resonant-burst-pos-scan',\n",
       " '/data/brownian/20220726/bead1/slow-flown-Z50_baseline_1',\n",
       " '/data/brownian/20220726/bead1/slow-50x-flown_baseline_3',\n",
       " '/data/brownian/20220726/bead1/slow-phone_baseline_1',\n",
       " '/data/brownian/20220726/bead1/slow-50x-flown_4kHz-N3-V6-resonant-burst-pos-scan',\n",
       " '/data/brownian/20220726/bead1/slow-50x-flown_40kHz-CW-V9_fos-scan-wide',\n",
       " '/data/brownian/20220726/bead1/slow-50x-flown_40kHz-N10-V9-resonant-burst-pos-scan',\n",
       " '/data/brownian/20220726/bead1/slow-50x-flown_baseline_2',\n",
       " '/data/brownian/20220726/bead1/slow-50x-flown_40kHz-CW-V9_fos-scan',\n",
       " '/data/brownian/20220726/bead1/slow-phone_40kHz-CW-V9_fos-scan-wide']"
      ]
     },
     "execution_count": 46,
     "metadata": {},
     "output_type": "execute_result"
    }
   ],
   "source": [
    "experiment_ders"
   ]
  },
  {
   "cell_type": "code",
   "execution_count": 116,
   "id": "common-forward",
   "metadata": {},
   "outputs": [],
   "source": [
    "flown_sty = {\"c\": \"darkcyan\", \"marker\": \">\"}\n",
    "phone_sty = {\"c\": \"darkgoldenrod\", \"marker\": \"s\"}\n",
    "sphere_sty = {\"c\": \"maroon\", \"marker\": \"o\"}"
   ]
  },
  {
   "cell_type": "code",
   "execution_count": 340,
   "id": "decent-supplement",
   "metadata": {},
   "outputs": [
    {
     "data": {
      "text/plain": [
       "100"
      ]
     },
     "execution_count": 340,
     "metadata": {},
     "output_type": "execute_result"
    }
   ],
   "source": [
    "Cfl.Nrecords"
   ]
  },
  {
   "cell_type": "code",
   "execution_count": 409,
   "id": "early-scheduling",
   "metadata": {},
   "outputs": [
    {
     "name": "stdout",
     "output_type": "stream",
     "text": [
      "/data/brownian/20220726/bead1/slow-50x-flown_40kHz-N10-V9-resonant-burst-pos-scan/iter_0.tdms /data/brownian/20220726/bead1/slow-phone_40kHz-N10-V9-resonant-burst-pos-scan/iter_0.tdms\n",
      "/data/brownian/20220726/bead1/slow-50x-flown_4kHz-N3-V6-resonant-burst-pos-scan/iter_0.tdms /data/brownian/20220726/bead1/slow-phone_4kHz-N3-V6-resonant-burst-pos-scan/iter_0.tdms\n"
     ]
    },
    {
     "data": {
      "image/png": "[encoded data removed]",
      "text/plain": [
       "<Figure size 243x180 with 4 Axes>"
      ]
     },
     "metadata": {
      "needs_background": "light"
     },
     "output_type": "display_data"
    }
   ],
   "source": [
    "tmin= 175e-6\n",
    "tmax = 550e-6\n",
    "cutoff_bd = 500e3\n",
    "posi=0\n",
    "Navg = 1\n",
    "window = \"boxcar\"\n",
    "\n",
    "fig, axs = plt.subplots(2, 2, figsize=(3.375, 2.5), sharex=\"col\")\n",
    "\n",
    "fname_fl = sort_fnames(find_files(experiment_ders[-4]))[posi]\n",
    "fname_ph = sort_fnames(find_files(experiment_ders[2]))[posi]\n",
    "print(fname_fl, fname_ph)\n",
    "\n",
    "musphere_response_v = make_musphere_response(C0, response=\"bassetbound\", impedance=None)\n",
    "musphere_response_p = make_musphere_response(C0, response=\"bassetbound\", impedance=\"plane\")\n",
    "\n",
    "Cfl = load_collection(fname_fl, \"Y\", muflown_response, scale=1/50,\n",
    "                          differentiate=False, cutoff=200e3, Npts=\"cutoff\", shift=laser_delay+22.5e-6, invert=False)\n",
    "Cfl.aggrigate()\n",
    "Cfl.agg.plot(ax=axs[0,0], tmin=tmin, tmax=tmax, unit=\"mm_s\", tunit=\"us\", zorder=2,\n",
    "                ms=1, lw=0.75, label=f\"Microflown\", **flown_sty)\n",
    "\n",
    "Cbd_fl = load_collection(fname_fl, \"X\", musphere_response_v,window=window, tmin=0, tmax=5000e-6,\n",
    "                          differentiate=True, cutoff=cutoff_bd, Npts=\"cutoff\", shift=laser_delay, invert=False)\n",
    "Cbd_fl.aggrigate()\n",
    "Cbd_fl.agg.plot(ax=axs[0,0], tmin=tmin, tmax=tmax, unit=\"mm_s\", tunit=\"us\", zorder=0,\n",
    "                ms=1, lw=0.75, label=f\"Microsphere\", **sphere_sty)\n",
    "\n",
    "\n",
    "Cph = load_collection(fname_ph, \"Y\", mic_response, \n",
    "                          differentiate=False, cutoff=200e3, Npts=\"cutoff\", shift=laser_delay+14.5e-6, invert=False)\n",
    "Cph.aggrigate()\n",
    "Cph.agg.plot(ax=axs[1,0], tmin=tmin, tmax=tmax, unit=\"Pa\", tunit=\"us\", zorder=0,\n",
    "                ms=1, lw=0.75, label=f\"Microphone\", **phone_sty)\n",
    "\n",
    "Cbd_ph = load_collection(fname_ph, \"X\", musphere_response_p, window=window, tmin=0, tmax=5000e-6,\n",
    "                          differentiate=True, cutoff=cutoff_bd, Npts=\"cutoff\", shift=laser_delay, invert=False)\n",
    "Cbd_ph.aggrigate()\n",
    "Cbd_ph.agg.plot(ax=axs[1,0], tmin=tmin, tmax=tmax, unit=\"Pa\", tunit=\"us\", zorder=0,\n",
    "                ms=1, lw=0.75, label=f\"Microsphere\", **sphere_sty)\n",
    "\n",
    "\n",
    "tmin= 0e-6\n",
    "tmax = 2400e-6\n",
    "cutoff_bd = 50e3\n",
    "\n",
    "\n",
    "fname_fl = sort_fnames(find_files(experiment_ders[-6]))[posi]\n",
    "fname_ph = sort_fnames(find_files(experiment_ders[5]))[posi]\n",
    "print(fname_fl, fname_ph)\n",
    "\n",
    "\n",
    "Cfl = load_collection(fname_fl, \"Y\", muflown_response, scale=1/50,\n",
    "                          differentiate=False, cutoff=25e3, Npts=\"cutoff\", shift=laser_delay-50e-6, invert=False)\n",
    "Cfl.aggrigate(collection_slice=Cfl.Nrecords-Navg)\n",
    "Cfl.agg.plot(ax=axs[0,1], tmin=tmin, tmax=tmax, unit=\"mm_s\", tunit=\"us\", zorder=2,\n",
    "                ms=1, lw=0.75, label=f\"Microflown\", **flown_sty)\n",
    "\n",
    "Cbd_fl = load_collection(fname_fl, \"X\", musphere_response_v, window=window, tmin=0, tmax=5000e-6,\n",
    "                          differentiate=True, cutoff=cutoff_bd, Npts=\"cutoff\", shift=laser_delay, invert=False)\n",
    "Cbd_fl.aggrigate(collection_slice=Cfl.Nrecords-Navg)\n",
    "Cbd_fl.agg.plot(ax=axs[0,1], tmin=tmin, tmax=tmax, unit=\"mm_s\", tunit=\"us\", zorder=0,\n",
    "                ms=1, lw=0.75, label=f\"Microsphere\", **sphere_sty)\n",
    "\n",
    "\n",
    "Cph = load_collection(fname_ph, \"Y\", mic_response,\n",
    "                          differentiate=False, cutoff=25e3, Npts=\"cutoff\", shift=laser_delay-80e-6, invert=False)\n",
    "Cph.aggrigate(collection_slice=Cfl.Nrecords-Navg)\n",
    "Cph.agg.plot(ax=axs[1,1], tmin=tmin, tmax=tmax, unit=\"Pa\", tunit=\"us\", zorder=0,\n",
    "                ms=1, lw=0.75, label=f\"Microphone\", **phone_sty)\n",
    "\n",
    "Cbd_ph = load_collection(fname_ph, \"X\", musphere_response_p, window=window, tmin=0, tmax=5000e-6,\n",
    "                          differentiate=True, cutoff=cutoff_bd, Npts=\"cutoff\", shift=laser_delay, invert=False)\n",
    "Cbd_ph.aggrigate(collection_slice=Cfl.Nrecords-Navg)\n",
    "Cbd_ph.agg.plot(ax=axs[1,1], tmin=tmin, tmax=tmax, unit=\"Pa\", tunit=\"us\", zorder=0,\n",
    "                ms=1, lw=0.75, label=f\"Microsphere\", **sphere_sty)\n",
    "\n",
    "\n",
    "for ax in (axs[0,0], axs[0,1]):\n",
    "    ax.set_xlabel(None)\n",
    "    \n",
    "for axr in axs:\n",
    "    for ax in axr:\n",
    "        ax.yaxis.set_major_locator(ticker.MaxNLocator(6))\n",
    "        ax.xaxis.set_major_locator(ticker.MaxNLocator(6))\n",
    "\n",
    "axs[1,0].set_ylabel(\"Pressure (Pa)\")\n",
    "axs[1,1].set_ylabel(None)\n",
    "axs[0,0].set_ylabel(\"Velocity (mm/s)\")\n",
    "axs[0,1].set_ylabel(None)\n",
    "axs[0,0].set_ylim(top=35)\n",
    "axs[1,0].set_ylim(top=15)\n",
    "axs[0,0].legend(loc=\"upper left\", frameon=False, handlelength=1, handletextpad=0.3, \n",
    "                labelspacing=0, columnspacing=0.5, ncol=1)\n",
    "axs[1,0].legend(loc=\"upper left\", frameon=False, handlelength=1, handletextpad=0.3, \n",
    "                labelspacing=0, columnspacing=0.5, ncol=1)\n",
    "plt.tight_layout()\n",
    "plt.savefig(\"figures/tone_burst_compare_1shot.pdf\")\n",
    "plt.savefig(\"figures/tone_burst_compare_1shot.png\", dpi=600)"
   ]
  },
  {
   "cell_type": "code",
   "execution_count": 437,
   "id": "timely-firewall",
   "metadata": {},
   "outputs": [
    {
     "data": {
      "image/png": "[encoded data removed]",
      "text/plain": [
       "<Figure size 243x93.6 with 2 Axes>"
      ]
     },
     "metadata": {
      "needs_background": "light"
     },
     "output_type": "display_data"
    }
   ],
   "source": [
    "fig, axs = plt.subplots(1,2, figsize=(3.375, 1.3), sharex=True)\n",
    "fs = np.geomspace(1e2, 1e6,1000)\n",
    "for response, label, ls in zip((\"bassetbound\", \"stokesbound\", \"exact\"), (\"Basset\", \"Stokes\", \"Exact (free)\"), (\"-\", \"--\", \":\")):\n",
    "    musphere_response = make_musphere_response(C0, response=response, impedance=None)\n",
    "    axs[0].loglog(fs,np.abs(musphere_response(fs)), ls=ls, lw=1, label=label)\n",
    "    axs[1].semilogx(fs, np.arctan(np.imag(musphere_response(fs))/np.real(musphere_response(fs))), ls=ls, lw=1, label=label)\n",
    "    \n",
    "axs[0].set_ylabel(r\"Amplitude ratio $v/u$\")\n",
    "axs[1].set_ylabel(r\"Phase $\\phi$ (rad.)\")\n",
    "axs[0].set_xlabel(\"Frequency $f$ (Hz)\")\n",
    "axs[1].set_xlabel(\"Frequency $f$ (Hz)\")\n",
    "axs[0].set_xticks([1e2, 1e3, 1e4, 1e5, 1e6])\n",
    "axs[1].set_xticks([1e2, 1e3, 1e4, 1e5, 1e6])\n",
    "axs[0].set_yticks([1e4, 1e5, 1e6, 1e7])\n",
    "axs[0].minorticks_off()\n",
    "axs[1].set_yticks([-np.pi/2, -np.pi/4, 0, np.pi/4, np.pi/2])\n",
    "axs[1].set_yticklabels([r\"$-\\pi/2$\", r\"$-\\pi/4$\", 0, r\"$\\pi/4$\", r\"$\\pi/2$\"])\n",
    "axs[0].legend(frameon=False, handlelength=1, handletextpad=0.5)\n",
    "\n",
    "\n",
    "plt.tight_layout()\n",
    "plt.savefig(\"figures/transfer_function.pdf\")\n",
    "plt.savefig(\"figures/transfer_function.png\", dpi=600)"
   ]
  },
  {
   "cell_type": "code",
   "execution_count": 285,
   "id": "honey-monte",
   "metadata": {},
   "outputs": [
    {
     "data": {
      "text/plain": [
       "['/data/brownian/20220726/bead1/slow-50x-flown_4kHz-CW-V7_fos-scan',\n",
       " '/data/brownian/20220726/bead1/slow-phone_baseline_2',\n",
       " '/data/brownian/20220726/bead1/slow-phone_40kHz-N10-V9-resonant-burst-pos-scan',\n",
       " '/data/brownian/20220726/bead1/slow-phone_40kHz-CW-V9_fos-scan',\n",
       " '/data/brownian/20220726/bead1/slow-phone_4kHz-CW-V7_fos-scan',\n",
       " '/data/brownian/20220726/bead1/slow-phone_4kHz-N3-V6-resonant-burst-pos-scan',\n",
       " '/data/brownian/20220726/bead1/slow-flown-Z50_baseline_1',\n",
       " '/data/brownian/20220726/bead1/slow-50x-flown_baseline_3',\n",
       " '/data/brownian/20220726/bead1/slow-phone_baseline_1',\n",
       " '/data/brownian/20220726/bead1/slow-50x-flown_4kHz-N3-V6-resonant-burst-pos-scan',\n",
       " '/data/brownian/20220726/bead1/slow-50x-flown_40kHz-CW-V9_fos-scan-wide',\n",
       " '/data/brownian/20220726/bead1/slow-50x-flown_40kHz-N10-V9-resonant-burst-pos-scan',\n",
       " '/data/brownian/20220726/bead1/slow-50x-flown_baseline_2',\n",
       " '/data/brownian/20220726/bead1/slow-50x-flown_40kHz-CW-V9_fos-scan',\n",
       " '/data/brownian/20220726/bead1/slow-phone_40kHz-CW-V9_fos-scan-wide']"
      ]
     },
     "execution_count": 285,
     "metadata": {},
     "output_type": "execute_result"
    }
   ],
   "source": [
    "experiment_ders"
   ]
  },
  {
   "cell_type": "code",
   "execution_count": 453,
   "id": "sufficient-raise",
   "metadata": {},
   "outputs": [],
   "source": [
    "def load_many_psd(fnames, X_load_params, Y_load_params, scan_var=\"fos\", taumax=None):\n",
    "    CXs = np.zeros(len(fnames), dtype=\"object\")\n",
    "    CYs = np.zeros(len(fnames), dtype=\"object\")\n",
    "    scan_vars = np.zeros(len(fnames))\n",
    "    for fnamei, fname in enumerate(fnames):\n",
    "        CX = load_collection(fname, \"X\", **X_load_params)\n",
    "        CY = load_collection(fname, \"Y\", **Y_load_params)\n",
    "        CX.average(\"PSD\", taumax=taumax)\n",
    "        CY.average(\"PSD\", taumax=taumax)\n",
    "        var = getattr(CX, scan_var)\n",
    "        CXs[fnamei] = CX\n",
    "        CYs[fnamei] = CY\n",
    "        scan_vars[fnamei] = var\n",
    "    return CXs, CYs, scan_vars\n",
    "        "
   ]
  },
  {
   "cell_type": "code",
   "execution_count": 659,
   "id": "previous-commerce",
   "metadata": {},
   "outputs": [],
   "source": [
    "cutoff_fl = 500e3\n",
    "cutoff_bd = 500e3\n",
    "cutoff_ph = 500e3\n",
    "window=\"boxcar\"\n",
    "taumax = 50e-3\n",
    "\n",
    "fname_fl0 = find_files(experiment_ders[-3])[0]\n",
    "fname_ph0 = find_files(experiment_ders[1])[0]\n",
    "\n",
    "fl_params = dict(\n",
    "                 response=muflown_response, \n",
    "                 scale=1/50, \n",
    "                 window=window,\n",
    "                 differentiate=False,\n",
    "                 cutoff=cutoff_fl,\n",
    "                 Npts=\"cutoff\", \n",
    "                 shift=0, \n",
    "                 invert=False)\n",
    "\n",
    "ph_params = dict(\n",
    "                 response=mic_response,  \n",
    "                 window=window,\n",
    "                 differentiate=False,\n",
    "                 cutoff=cutoff_ph,\n",
    "                 Npts=\"cutoff\", \n",
    "                 shift=0, \n",
    "                 invert=False)\n",
    "\n",
    "bd_fl_params = dict(\n",
    "                 response=musphere_response_v,  \n",
    "                 window=window,\n",
    "                 differentiate=True,\n",
    "                 cutoff=cutoff_ph,\n",
    "                 Npts=\"cutoff\", \n",
    "                 shift=0, \n",
    "                 invert=False)\n",
    "\n",
    "\n",
    "bd_ph_params = dict(\n",
    "                 response=musphere_response_p,  \n",
    "                 window=window,\n",
    "                 differentiate=True,\n",
    "                 cutoff=cutoff_ph,\n",
    "                 Npts=\"cutoff\", \n",
    "                 shift=0, \n",
    "                 invert=False)\n",
    "\n",
    "\n",
    "Cfl0 = load_collection(fname_fl0, \"Y\", **fl_params)\n",
    "\n",
    "Cbd_fl0 = load_collection(fname_fl0, \"X\", **bd_fl_params)\n",
    "\n",
    "Cph0 = load_collection(fname_ph0, \"Y\", **ph_params)\n",
    "\n",
    "Cbd_ph0 = load_collection(fname_ph0, \"X\", **bd_ph_params)\n",
    "\n",
    "for C in [Cfl0, Cph0, Cbd_fl0, Cbd_ph0]:\n",
    "    C.average(\"PSD\", taumax=taumax)"
   ]
  },
  {
   "cell_type": "code",
   "execution_count": 660,
   "id": "logical-germany",
   "metadata": {},
   "outputs": [],
   "source": [
    "def SNR_pair(foss, CXs, CX0, X_sty, CYs, CY0, Y_sty, labels, Df, axs, plot_fosis=[]):\n",
    "    SNRs = []\n",
    "    for fosi, fos in enumerate(foss):\n",
    "        CX = CXs[fosi]\n",
    "        CY = CYs[fosi]\n",
    "        noise_XY = []\n",
    "        for C, sty, label, in zip([CX0, CY0], [X_sty, Y_sty], [\"Sound OFF\", None]):\n",
    "            fmin = fos*1e3 - Df/2\n",
    "            fmax = fos*1e3 + Df/2\n",
    "            mask = np.logical_and(C.freq>fmin, C.freq<fmax)\n",
    "            ind = np.argmin(np.abs(C.freq - fos*1e3))\n",
    "            noise_XY.append(C.psd[ind])\n",
    "            if fosi in plot_fosis:\n",
    "                axs[0].semilogy(C.freq[mask], C.psd[mask],\"k\", lw=1, label=label)\n",
    "\n",
    "        signal_XY = []\n",
    "        for C, sty, label, in zip([CY, CX], [Y_sty, X_sty], labels[::-1]):\n",
    "            fmin = fos*1e3 - Df/2\n",
    "            fmax = fos*1e3 + Df/2\n",
    "            mask = np.logical_and(C.freq>fmin, C.freq<fmax)\n",
    "            ind = np.argmin(np.abs(C.freq - fos*1e3))\n",
    "            signal_XY.append(C.psd[ind])\n",
    "            if fosi in plot_fosis:\n",
    "                axs[0].semilogy(C.freq[mask], C.psd[mask], c=sty[\"c\"], lw=1, label=label)\n",
    "        SNR = np.array([S/R for S, R in zip(signal_XY, noise_XY)])\n",
    "        SNRs.append(SNR)\n",
    "    SNRs = np.array(SNRs)\n",
    "    return SNRs"
   ]
  },
  {
   "cell_type": "code",
   "execution_count": 661,
   "id": "patent-sixth",
   "metadata": {},
   "outputs": [],
   "source": [
    "fnames_fl = sort_fnames(find_files(experiment_ders[0]))\n",
    "fnames_ph = sort_fnames(find_files(experiment_ders[4]))\n",
    "Cbd_phs, Cphs, foss = load_many_psd(fnames_ph, bd_ph_params, ph_params, taumax=taumax)   \n",
    "Cbd_fls, Cfls, foss = load_many_psd(fnames_fl, bd_fl_params, fl_params, taumax=taumax)"
   ]
  },
  {
   "cell_type": "code",
   "execution_count": 662,
   "id": "binary-union",
   "metadata": {},
   "outputs": [
    {
     "data": {
      "image/png": "[encoded data removed]",
      "text/plain": [
       "<Figure size 243x180 with 4 Axes>"
      ]
     },
     "metadata": {
      "needs_background": "light"
     },
     "output_type": "display_data"
    }
   ],
   "source": [
    "CXs = Cbd_fls\n",
    "CX0 = Cbd_fl0\n",
    "CYs = Cfls\n",
    "CY0 = Cfl0\n",
    "X_sty = sphere_sty\n",
    "Y_sty = flown_sty\n",
    "flown_labels = [\"Microsphere\", \"Microflown\"]\n",
    "phone_labels = [\"Microsphere\", \"Microphone\"]\n",
    "\n",
    "\n",
    "\n",
    "\n",
    "plot_fosis = np.arange(0, len(foss), 1)\n",
    "plot_fosis = [4]\n",
    "Df = 5000\n",
    "\n",
    "\n",
    "fig, axs  = plt.subplots(2, 2, figsize=(3.375, 2.5), sharex=\"col\")\n",
    "SNRs_fl = SNR_pair(foss, Cbd_fls, Cbd_fl0, sphere_sty, Cfls, Cfl0, flown_sty, flown_labels, Df, axs[0,:], plot_fosis=plot_fosis)\n",
    "SNRs_ph = SNR_pair(foss, Cbd_phs, Cbd_ph0, sphere_sty, Cphs, Cph0, phone_sty, phone_labels, Df, axs[1,:], plot_fosis=plot_fosis)\n",
    "\n",
    "\n",
    "for snr, sty, label in zip(SNRs_fl.T, [sphere_sty, flown_sty], flown_labels):\n",
    "    axs[0,1].plot(1e3*foss, 10*np.log10(snr), label=label, ms=2, lw=1,**sty)\n",
    "    \n",
    "for snr, sty, label in zip(SNRs_ph.T, [sphere_sty, phone_sty], phone_labels):\n",
    "    axs[1,1].plot(1e3*foss, 10*np.log10(snr), label=label, ms=2, lw=1,**sty)\n",
    "\n",
    "axs[0,0].legend(frameon=False, handlelength=1, loc=\"upper left\", labelspacing=0)\n",
    "axs[1,0].legend(frameon=False, handlelength=1, loc=\"upper left\", labelspacing=0)\n",
    "axs[0,1].legend(frameon=False,handlelength=1, loc=\"upper right\", labelspacing=0)\n",
    "axs[1,1].legend(frameon=False, handlelength=1, loc=\"upper right\", labelspacing=0)\n",
    "    \n",
    "\n",
    "\n",
    "    \n",
    "axs[0,0].set_ylabel(r\"uPSD ${\\rm [(m/s)^2/Hz]}$\")\n",
    "axs[1,0].set_ylabel(r\"pPSD ${\\rm (Pa^2/Hz)}$\")\n",
    "axs[1,0].set_xlabel(\"Frequency (Hz)\")\n",
    "axs[1,1].set_ylabel(\"SNR (dB re sound OFF)\")\n",
    "axs[0,1].set_ylabel(\"SNR (dB re sound OFF)\")\n",
    "axs[1,1].set_xlabel(\"Drive frequency (Hz)\")\n",
    "plt.tight_layout()\n",
    "plt.savefig(\"figures/4kHz-CW_SNR.pdf\")\n",
    "plt.savefig(\"figures/4kHz-CW_SNR.png\", dpi=600)"
   ]
  },
  {
   "cell_type": "code",
   "execution_count": 663,
   "id": "helpful-brain",
   "metadata": {},
   "outputs": [],
   "source": [
    "fnames_fl = sort_fnames(find_files(experiment_ders[-2]))\n",
    "fnames_ph = sort_fnames(find_files(experiment_ders[3]))\n",
    "Cbd_phs, Cphs, foss = load_many_psd(fnames_ph, bd_ph_params, ph_params, taumax=taumax)   \n",
    "Cbd_fls, Cfls, foss = load_many_psd(fnames_fl, bd_fl_params, fl_params, taumax=taumax)"
   ]
  },
  {
   "cell_type": "code",
   "execution_count": 664,
   "id": "medium-halloween",
   "metadata": {},
   "outputs": [
    {
     "data": {
      "image/png": "[encoded data removed]",
      "text/plain": [
       "<Figure size 243x180 with 4 Axes>"
      ]
     },
     "metadata": {
      "needs_background": "light"
     },
     "output_type": "display_data"
    }
   ],
   "source": [
    "CXs = Cbd_fls\n",
    "CX0 = Cbd_fl0\n",
    "CYs = Cfls\n",
    "CY0 = Cfl0\n",
    "X_sty = sphere_sty\n",
    "Y_sty = flown_sty\n",
    "flown_labels = [\"Microsphere\", \"Microflown\"]\n",
    "phone_labels = [\"Microsphere\", \"Microphone\"]\n",
    "\n",
    "\n",
    "\n",
    "\n",
    "plot_fosis = np.arange(0, len(foss), 1)\n",
    "plot_fosis = [13]\n",
    "Df = 5000\n",
    "\n",
    "\n",
    "fig, axs  = plt.subplots(2, 2, figsize=(3.375, 2.5), sharex=\"col\")\n",
    "SNRs_fl = SNR_pair(foss, Cbd_fls, Cbd_fl0, sphere_sty, Cfls, Cfl0, flown_sty, flown_labels, Df, axs[0,:], plot_fosis=plot_fosis)\n",
    "SNRs_ph = SNR_pair(foss, Cbd_phs, Cbd_ph0, sphere_sty, Cphs, Cph0, phone_sty, phone_labels, Df, axs[1,:], plot_fosis=plot_fosis)\n",
    "\n",
    "\n",
    "for snr, sty, label in zip(SNRs_fl.T, [sphere_sty, flown_sty], flown_labels):\n",
    "    axs[0,1].plot(1e3*foss, 10*np.log10(snr), label=label, ms=2, lw=1,**sty)\n",
    "    \n",
    "for snr, sty, label in zip(SNRs_ph.T, [sphere_sty, phone_sty], phone_labels):\n",
    "    axs[1,1].plot(1e3*foss, 10*np.log10(snr), label=label, ms=2, lw=1,**sty)\n",
    "\n",
    "axs[0,0].legend(frameon=False, handlelength=1, loc=\"upper left\", labelspacing=0)\n",
    "axs[1,0].legend(frameon=False, handlelength=1, loc=\"upper left\", labelspacing=0)\n",
    "axs[0,1].legend(frameon=False,handlelength=1, loc=\"upper right\", labelspacing=0)\n",
    "axs[1,1].legend(frameon=False, handlelength=1, loc=\"upper right\", labelspacing=0)\n",
    "    \n",
    "\n",
    "\n",
    "    \n",
    "axs[0,0].set_ylabel(r\"uPSD ${\\rm [(m/s)^2/Hz]}$\")\n",
    "axs[1,0].set_ylabel(r\"pPSD ${\\rm (Pa^2/Hz)}$\")\n",
    "axs[1,0].set_xlabel(\"Frequency (Hz)\")\n",
    "axs[1,1].set_ylabel(\"SNR (dB re sound OFF)\")\n",
    "axs[0,1].set_ylabel(\"SNR (dB re sound OFF)\")\n",
    "axs[1,1].set_xlabel(\"Drive frequency (Hz)\")\n",
    "plt.tight_layout()\n",
    "plt.savefig(\"figures/40kHz-CW_SNR.pdf\")\n",
    "plt.savefig(\"figures/40kHz-CW_SNR.png\", dpi=600)"
   ]
  },
  {
   "cell_type": "code",
   "execution_count": 665,
   "id": "simplified-amateur",
   "metadata": {},
   "outputs": [],
   "source": [
    "fnames_fl = sort_fnames(find_files(experiment_ders[-5]))\n",
    "fnames_ph = sort_fnames(find_files(experiment_ders[-1]))\n",
    "Cbd_phs, Cphs, foss = load_many_psd(fnames_ph, bd_ph_params, ph_params, taumax=taumax)   \n",
    "Cbd_fls, Cfls, foss = load_many_psd(fnames_fl, bd_fl_params, fl_params, taumax=taumax)"
   ]
  },
  {
   "cell_type": "code",
   "execution_count": 666,
   "id": "infinite-corner",
   "metadata": {},
   "outputs": [
    {
     "data": {
      "image/png": "[encoded data removed]",
      "text/plain": [
       "<Figure size 243x180 with 4 Axes>"
      ]
     },
     "metadata": {
      "needs_background": "light"
     },
     "output_type": "display_data"
    }
   ],
   "source": [
    "CXs = Cbd_fls\n",
    "CX0 = Cbd_fl0\n",
    "CYs = Cfls\n",
    "CY0 = Cfl0\n",
    "X_sty = sphere_sty\n",
    "Y_sty = flown_sty\n",
    "flown_labels = [\"Microsphere\", \"Microflown\"]\n",
    "phone_labels = [\"Microsphere\", \"Microphone\"]\n",
    "\n",
    "\n",
    "\n",
    "\n",
    "plot_fosis = np.arange(0, len(foss), 1)\n",
    "plot_fosis = [50-1]\n",
    "Df = 5000\n",
    "\n",
    "\n",
    "fig, axs  = plt.subplots(2, 2, figsize=(3.375, 2.5), sharex=\"col\")\n",
    "SNRs_fl = SNR_pair(foss, Cbd_fls, Cbd_fl0, sphere_sty, Cfls, Cfl0, flown_sty, flown_labels, Df, axs[0,:], plot_fosis=plot_fosis)\n",
    "SNRs_ph = SNR_pair(foss, Cbd_phs, Cbd_ph0, sphere_sty, Cphs, Cph0, phone_sty, phone_labels, Df, axs[1,:], plot_fosis=plot_fosis)\n",
    "\n",
    "\n",
    "for snr, sty, label in zip(SNRs_fl.T, [sphere_sty, flown_sty], flown_labels):\n",
    "    axs[0,1].plot(1e3*foss, 10*np.log10(snr), label=label, ms=2, lw=1,**sty)\n",
    "    \n",
    "for snr, sty, label in zip(SNRs_ph.T, [sphere_sty, phone_sty], phone_labels):\n",
    "    axs[1,1].plot(1e3*foss, 10*np.log10(snr), label=label, ms=2, lw=1,**sty)\n",
    "\n",
    "axs[0,0].legend(frameon=False, handlelength=1, loc=\"upper left\", labelspacing=0)\n",
    "axs[1,0].legend(frameon=False, handlelength=1, loc=\"upper left\", labelspacing=0)\n",
    "axs[0,1].legend(frameon=False,handlelength=1, loc=\"upper right\", labelspacing=0)\n",
    "axs[1,1].legend(frameon=False, handlelength=1, loc=\"upper right\", labelspacing=0)\n",
    "    \n",
    "\n",
    "\n",
    "    \n",
    "axs[0,0].set_ylabel(r\"uPSD ${\\rm [(m/s)^2/Hz]}$\")\n",
    "axs[1,0].set_ylabel(r\"pPSD ${\\rm (Pa^2/Hz)}$\")\n",
    "axs[1,0].set_xlabel(\"Frequency (Hz)\")\n",
    "axs[1,1].set_ylabel(\"SNR (dB re sound OFF)\")\n",
    "axs[0,1].set_ylabel(\"SNR (dB re sound OFF)\")\n",
    "axs[1,1].set_xlabel(\"Drive frequency (Hz)\")\n",
    "plt.tight_layout()\n",
    "plt.savefig(\"figures/40kHz-wide-CW_SNR.pdf\")\n",
    "plt.savefig(\"figures/40kHz-wide-CW_SNR.png\", dpi=600)"
   ]
  },
  {
   "cell_type": "code",
   "execution_count": 667,
   "id": "beneficial-timothy",
   "metadata": {},
   "outputs": [
    {
     "data": {
      "text/plain": [
       "array([23.16974191, 23.16893858, 23.1677541 , 23.16748437, 23.1681587 ])"
      ]
     },
     "execution_count": 667,
     "metadata": {},
     "output_type": "execute_result"
    }
   ],
   "source": [
    "Cphs[0].T[:]"
   ]
  },
  {
   "cell_type": "code",
   "execution_count": null,
   "id": "distributed-equipment",
   "metadata": {},
   "outputs": [],
   "source": []
  }
 ],
 "metadata": {
  "kernelspec": {
   "display_name": "Python 3",
   "language": "python",
   "name": "python3"
  },
  "language_info": {
   "codemirror_mode": {
    "name": "ipython",
    "version": 3
   },
   "file_extension": ".py",
   "mimetype": "text/x-python",
   "name": "python",
   "nbconvert_exporter": "python",
   "pygments_lexer": "ipython3",
   "version": "3.9.9"
  },
  "toc": {
   "base_numbering": 1,
   "nav_menu": {},
   "number_sections": true,
   "sideBar": true,
   "skip_h1_title": false,
   "title_cell": "Table of Contents",
   "title_sidebar": "Contents",
   "toc_cell": false,
   "toc_position": {},
   "toc_section_display": true,
   "toc_window_display": false
  }
 },
 "nbformat": 4,
 "nbformat_minor": 5
}
