{
 "cells": [
  {
   "cell_type": "code",
   "execution_count": 1,
   "id": "ambient-shame",
   "metadata": {},
   "outputs": [],
   "source": [
    "import sys\n",
    "sys.path.append(\"../src\")\n",
    "from time_series import Collection, find_ders, find_files\n",
    "import matplotlib.pyplot as plt\n",
    "import numpy as np\n",
    "\n",
    "from matplotlib import rc\n",
    "fontsize = 10\n",
    "fontstyle = {\n",
    "    \"pdf.fonttype\": 42, # type 3 pdf fonts\n",
    "    \"mathtext.default\": 'regular', # italic math\n",
    "    'mathtext.fontset': 'cm',\n",
    "    'font.family' : 'STIXGeneral',\n",
    "    \"text.usetex\": True, # latex-based math\n",
    "    # sans-serif Helvetica font\n",
    "    #\"text.latex.preamble\":\n",
    "    #    r'\\usepackage{helvet} \\usepackage{sansmath} \\sansmath',\n",
    "    #\"font.family\": \"sans-serif\",\n",
    "    # font sizes\n",
    "    \"axes.labelsize\": fontsize,\n",
    "    'axes.titlesize': fontsize,\n",
    "    \"font.size\": fontsize,\n",
    "    \"legend.fontsize\": fontsize,\n",
    "    \"xtick.labelsize\": fontsize,\n",
    "    'xtick.direction': \"inout\",\n",
    "    'xtick.top': True,\n",
    "    'xtick.major.size': 4,\n",
    "    'xtick.major.width': 0.5,\n",
    "    'xtick.minor.width': 0.5,\n",
    "    \"ytick.labelsize\": fontsize,\n",
    "    'ytick.direction': \"inout\",\n",
    "    'ytick.right': True,\n",
    "    'ytick.major.size': 4,\n",
    "    'ytick.major.width': 0.5,\n",
    "    'ytick.minor.width': 0.5,\n",
    "    \"axes.linewidth\": 0.5,\n",
    "}\n",
    "\n",
    "plt.rcParams.update(fontstyle)\n",
    "letters_lower = [r\"$\\mathrm{\\bf{%s}}$\" % lett for lett in \"abcdefghijklmnopqrstuvwxyz\"]\n",
    "letters_round = [r\"$\\mathrm{\\bf{(%s)}}$\" % lett for lett in \"abcdefghijklmnopqrstuvwxyz\"] \n",
    "letters_upper = [r\"$\\bf{%s}$\" % lett for lett in \"abcdefghijklmnopqrstuvwxyz\".upper()] \n",
    "letters_map = {\"round\": letters_round, \"upper\": letters_upper, \"lower\":letters_lower}  \n",
    "def lettering(ax, x, y, num, color=\"k\", mode=\"round\", **kwargs):     \n",
    "    letters = letters_map[mode]     \n",
    "    ax.text(x, y, letters[num], weight=\"bold\", transform=ax.transAxes,             \n",
    "            horizontalalignment=\"center\", verticalalignment=\"center\", color=color, **kwargs)"
   ]
  },
  {
   "cell_type": "code",
   "execution_count": 2,
   "id": "suburban-tension",
   "metadata": {},
   "outputs": [
    {
     "data": {
      "text/plain": [
       "['/data/brownian/20221019/nobead/dark/iter_0.tdms',\n",
       " '/data/brownian/20221019/nobead/dark/iter_1.tdms',\n",
       " '/data/brownian/20221019/nobead/dark/iter_2.tdms',\n",
       " '/data/brownian/20221019/nobead/dark/iter_3.tdms',\n",
       " '/data/brownian/20221019/nobead/dark/iter_4.tdms',\n",
       " '/data/brownian/20221019/nobead/dark/iter_5.tdms',\n",
       " '/data/brownian/20221019/nobead/dark/iter_6.tdms',\n",
       " '/data/brownian/20221019/nobead/dark/iter_7.tdms',\n",
       " '/data/brownian/20221019/nobead/dark/iter_8.tdms',\n",
       " '/data/brownian/20221019/nobead/dark/iter_9.tdms']"
      ]
     },
     "execution_count": 2,
     "metadata": {},
     "output_type": "execute_result"
    }
   ],
   "source": [
    "#fname = \"/home/lhillber/scratch/noise_trial_0.tdms\" # Mount point\n",
    "dark_der =\"/data/brownian/20221019/nobead/dark\"\n",
    "bright_der =\"/data/brownian/20221019/nobead/bright\"\n",
    "sorted(find_files(dark_der))"
   ]
  },
  {
   "cell_type": "code",
   "execution_count": null,
   "id": "crazy-parts",
   "metadata": {},
   "outputs": [],
   "source": []
  },
  {
   "cell_type": "code",
   "execution_count": 3,
   "id": "declared-flour",
   "metadata": {},
   "outputs": [
    {
     "name": "stdout",
     "output_type": "stream",
     "text": [
      "/data/brownian/20221019/nobead/dark/iter_0.tdms\n",
      "/data/brownian/20221019/nobead/dark/iter_1.tdms\n",
      "/data/brownian/20221019/nobead/dark/iter_2.tdms\n",
      "/data/brownian/20221019/nobead/dark/iter_3.tdms\n",
      "/data/brownian/20221019/nobead/dark/iter_4.tdms\n",
      "/data/brownian/20221019/nobead/dark/iter_5.tdms\n",
      "/data/brownian/20221019/nobead/dark/iter_6.tdms\n",
      "/data/brownian/20221019/nobead/dark/iter_7.tdms\n",
      "/data/brownian/20221019/nobead/dark/iter_8.tdms\n",
      "/data/brownian/20221019/nobead/dark/iter_9.tdms\n",
      "/data/brownian/20221019/nobead/bright/iter_0.tdms\n",
      "/data/brownian/20221019/nobead/bright/iter_1.tdms\n",
      "/data/brownian/20221019/nobead/bright/iter_2.tdms\n",
      "/data/brownian/20221019/nobead/bright/iter_3.tdms\n",
      "/data/brownian/20221019/nobead/bright/iter_4.tdms\n",
      "/data/brownian/20221019/nobead/bright/iter_5.tdms\n",
      "/data/brownian/20221019/nobead/bright/iter_6.tdms\n",
      "/data/brownian/20221019/nobead/bright/iter_7.tdms\n",
      "/data/brownian/20221019/nobead/bright/iter_8.tdms\n",
      "/data/brownian/20221019/nobead/bright/iter_9.tdms\n"
     ]
    }
   ],
   "source": [
    "psd_dark_avg = 0\n",
    "Navg_dark = 0\n",
    "fnames_dark = sorted(find_files(dark_der))\n",
    "for fname in fnames_dark:\n",
    "    print(fname)\n",
    "    X = Collection(fname)\n",
    "    X.set_collection(\"X\")\n",
    "    freq, psd = X.average(\"PSD\")\n",
    "    psd_dark_avg += psd / len(fnames_dark)\n",
    "    Navg_dark += X.Navg_psd\n",
    "\n",
    "psd_bright_avg = 0\n",
    "Navg_bright = 0\n",
    "fnames_bright = sorted(find_files(bright_der))\n",
    "for fname in fnames_bright:\n",
    "    print(fname)\n",
    "    X = Collection(fname)\n",
    "    X.set_collection(\"X\")\n",
    "    freq, psd = X.average(\"PSD\")\n",
    "    psd_bright_avg += psd / len(fnames_bright)\n",
    "    Navg_bright += X.Navg_psd"
   ]
  },
  {
   "cell_type": "code",
   "execution_count": 4,
   "id": "alive-zoning",
   "metadata": {},
   "outputs": [],
   "source": [
    "from mpl_toolkits.axes_grid1.inset_locator import mark_inset\n",
    "import numpy as np\n",
    "import matplotlib.pyplot as plt\n",
    "from scipy.optimize import leastsq, curve_fit\n",
    "\n",
    "def lorentzian(x, A, x0, G):\n",
    "    return A * G*G / ((x - x0)**2 + G*G)\n",
    "\n",
    "def lorentzian4(x, A1,x1,G1, A2,x2,G2, A3,x3,G3, A4,x4,G4):\n",
    "    return sum(lorentzian(x, A, x0, G) for A, x0, G in \n",
    "               zip([A1, A2, A3, A4], [x1, x2, x3, x4], [G1, G2, G3, G4]))\n",
    "\n",
    "def gauss(x, A, x0, G):\n",
    "    return A * np.exp((x-x0)**2/(2*G*G))\n",
    "\n",
    "def gauss4(x, A1,x1,G1, A2,x2,G2, A3,x3,G3, A4,x4,G4):\n",
    "    return sum(gauss(x, A, x0, G) for A, x0, G in \n",
    "               zip([A1, A2, A3, A4], [x1, x2, x3, x4], [G1, G2, G3, G4]))\n"
   ]
  },
  {
   "cell_type": "code",
   "execution_count": 5,
   "id": "aware-dependence",
   "metadata": {},
   "outputs": [
    {
     "name": "stdout",
     "output_type": "stream",
     "text": [
      "2.371788224832099e-13 1.6665139226923094e-13\n"
     ]
    },
    {
     "data": {
      "image/png": "[encoded data removed]",
      "text/plain": [
       "<Figure size 396x259.2 with 3 Axes>"
      ]
     },
     "metadata": {
      "needs_background": "light"
     },
     "output_type": "display_data"
    }
   ],
   "source": [
    "cb, cd = \"C1\", \"C0\"\n",
    "\n",
    "fig = plt.figure(figsize=(5.5, 3.6))\n",
    "gs = fig.add_gridspec(2, 2, figure=fig, top=0.98, bottom=0.12, hspace=0.5, wspace=0.3, right=0.98)\n",
    "ax0 = fig.add_subplot(gs[0, :])\n",
    "ax1 = fig.add_subplot(gs[1, 0])\n",
    "ax2 = fig.add_subplot(gs[1, 1])\n",
    "axs = [ax0, ax1, ax2]\n",
    "\n",
    "mask1 = np.logical_and(freq>40, freq<175)\n",
    "mask2 = np.logical_and(freq>1e6, freq<6e6)\n",
    "mean_mask = np.logical_and(freq>500e3, freq<1.5e6)\n",
    "chi_bright = psd_bright_avg[mean_mask].mean()\n",
    "chi_dark = psd_dark_avg[mean_mask].mean()\n",
    "print(chi_bright, chi_dark)\n",
    "\n",
    "ax0.loglog(freq[1:], psd_dark_avg[1:]*1e6, lw=0.5, zorder=10, label=\"Dark\", c=cd)\n",
    "ax0.loglog(freq[1:], psd_bright_avg[1:]*1e6, lw=0.5, label=\"Bright\", c=cb)\n",
    "fnoise = np.geomspace(2.5, 1e2, 200)\n",
    "ax0.plot(fnoise, 1/fnoise/5e8*1e6, c=\"k\", lw=1, ls=\"--\")\n",
    "\n",
    "ax1.plot(freq[mask1], psd_bright_avg[mask1]*1e6, lw=1, marker=\"o\", ms=4, ls=\"none\", mfc=\"none\", mec=cb, zorder=0)\n",
    "#ax1.plot(freq[mask1], psd_dark_avg[mask1]*1e6, lw=1, marker=\".\", c=cd)\n",
    "x, y = freq[mask1], psd_bright_avg[mask1]\n",
    "popt, pcov = curve_fit(lorentzian4, x, y, p0=[1e-5,60,10,  0.6e-5,105,10, 0.5e-5,120,10, 0.5e-5,140,10])\n",
    "popts = popt.reshape(4,3)\n",
    "perrs =  np.sqrt(np.diag(pcov)).reshape(4,3)\n",
    "for pi, p in enumerate(popts):\n",
    "    xs = np.linspace(p[1]-7*p[2], p[1]+7*p[2], 100)\n",
    "    ax1.plot(xs, lorentzian(xs, *p)*1e6, c=f\"C{pi+2}\", lw=1)\n",
    "    if pi ==0:\n",
    "        ax1.text(p[1]+3, p[0]*1e6-1, pi+1, color=f\"C{pi+2}\")\n",
    "    else:\n",
    "         ax1.text(p[1]-2, p[0]*1e6+0.5, pi+1, color=f\"C{pi+2}\")\n",
    "\n",
    "ax2.plot(freq[mask2]/1e6, psd_dark_avg[mask2]*1e6, lw=0.5, zorder=10, c=cd)\n",
    "ax2.plot(freq[mask2]/1e6, psd_bright_avg[mask2]*1e6, lw=0.5, c=cb)\n",
    "ax2.axvline(4, lw=0.5, c=\"k\")\n",
    "\n",
    "for ax in axs:\n",
    "    ax.axhline(chi_bright*1e6, c=\"k\", lw=1, zorder=11)\n",
    "\n",
    "\n",
    "\"\"\"\n",
    "patch, pp1, pp2 = mark_inset(ax0, ax1, loc1=1, loc2=2, fc=\"none\", ec='0.5')\n",
    "pp1.loc1=1\n",
    "pp2.loc1=2\n",
    "pp1.loc2=4\n",
    "pp2.loc2=3\n",
    "\n",
    "patch, pp1, pp2 = mark_inset(ax0, ax2, loc1=1, loc2=2, fc=\"none\", ec='0.5')\n",
    "pp1.loc1=1\n",
    "pp2.loc1=2\n",
    "pp1.loc2=4\n",
    "pp2.loc2=3\n",
    "\"\"\"\n",
    "\n",
    "ax2.set_yscale(\"log\")\n",
    "#ax1.set_yscale(\"log\")\n",
    "    \n",
    "\n",
    "\n",
    "\n",
    "ax0.set_xlabel(\"Frequency $f$ (Hz)\") \n",
    "ax1.set_xlabel(\"Frequency $f$ (Hz)\") \n",
    "ax2.set_xlabel(\"Frequency $f$ (MHz)\") \n",
    "\n",
    "ax0.set_ylabel(r\"$S_{VV}~{\\rm (mV^2/Hz)}$\")\n",
    "ax1.set_ylabel(r\"$S_{VV}~{\\rm (mV^2/Hz)}$\")\n",
    "ax2.set_yticks([1e-5, 1e-7, 1e-9])\n",
    "\n",
    "ax0.text(50, 0.8e-10*1e6, r\"$1/f$\")\n",
    "ax0.text(1.5, 2e-14*1e6, r\"$\\chi$\")\n",
    "ax2.text(4.2, 2e-15*1e6, r\"$f_{\\rm c}$\")\n",
    "\n",
    "lettering(ax0, -0.04, 1, 0)\n",
    "lettering(ax1, -0.1, 1, 1)\n",
    "lettering(ax2, -0.1, 1, 2)\n",
    "ax0.legend(frameon=False, loc=\"upper right\", handlelength=1)\n",
    "\n",
    "plt.savefig(\"figures/dissertation/noise_psd.pdf\", dpi=600)"
   ]
  },
  {
   "cell_type": "code",
   "execution_count": 74,
   "id": "liable-favorite",
   "metadata": {},
   "outputs": [
    {
     "data": {
      "text/plain": [
       "(1.1289300545331632e-10, 5.039999999999999e-06)"
      ]
     },
     "execution_count": 74,
     "metadata": {},
     "output_type": "execute_result"
    },
    {
     "data": {
      "image/png": "[encoded data removed]",
      "text/plain": [
       "<Figure size 432x288 with 1 Axes>"
      ]
     },
     "metadata": {
      "needs_background": "light"
     },
     "output_type": "display_data"
    }
   ],
   "source": [
    "X = Collection(fnames_bright[0])\n",
    "X.set_collection(\"X\")\n",
    "X.apply(\"calibrate\", cal=1/1.7e6, inplace=True)\n",
    "X.apply(\"bin_average\", Npts=128, inplace=True)\n",
    "X.apply(\"differentiate\", inplace=True)\n",
    "bins, hist = X.average(\"HIST\")\n",
    "plt.plot(bins*1e3, hist)\n",
    "np.mean([np.std(D.x) for D in X.collection]) * (X.t[1] - X.t[0]), (X.t[1] - X.t[0])"
   ]
  },
  {
   "cell_type": "code",
   "execution_count": 73,
   "id": "brave-audience",
   "metadata": {},
   "outputs": [
    {
     "data": {
      "text/plain": [
       "(1.1289300545331632e-10, 5.039999999999999e-06)"
      ]
     },
     "execution_count": 73,
     "metadata": {},
     "output_type": "execute_result"
    }
   ],
   "source": []
  },
  {
   "cell_type": "code",
   "execution_count": 21,
   "id": "static-reply",
   "metadata": {},
   "outputs": [
    {
     "name": "stdout",
     "output_type": "stream",
     "text": [
      "/data/brownian/20221019/nobead/dark/iter_0.tdms\n",
      "/data/brownian/20221019/nobead/dark/iter_1.tdms\n",
      "/data/brownian/20221019/nobead/dark/iter_2.tdms\n",
      "/data/brownian/20221019/nobead/dark/iter_3.tdms\n",
      "/data/brownian/20221019/nobead/dark/iter_4.tdms\n",
      "/data/brownian/20221019/nobead/dark/iter_5.tdms\n",
      "/data/brownian/20221019/nobead/dark/iter_6.tdms\n",
      "/data/brownian/20221019/nobead/dark/iter_7.tdms\n",
      "/data/brownian/20221019/nobead/dark/iter_8.tdms\n",
      "/data/brownian/20221019/nobead/dark/iter_9.tdms\n"
     ]
    }
   ],
   "source": [
    "psd_dark_avg = 0\n",
    "Navg_dark = 0\n",
    "fnames_dark = sorted(find_files(dark_der))\n",
    "for fname in fnames_dark:\n",
    "    print(fname)\n",
    "    Y = Collection(fname)\n",
    "    Y.set_collection(\"Y\")\n",
    "    Y.apply(\"correct\", response=mic_response, n_jobs=1, \n",
    "            window=\"boxcar\", differentiate=False, recollect=True)\n",
    "    freq, psd = Y.average(\"PSD\")\n",
    "    psd_dark_avg += psd / len(fnames_dark)\n",
    "    Navg_dark += Y.Navg_psd\n"
   ]
  },
  {
   "cell_type": "code",
   "execution_count": 28,
   "id": "diagnostic-agreement",
   "metadata": {},
   "outputs": [
    {
     "data": {
      "text/plain": [
       "[<matplotlib.lines.Line2D at 0x7fbf0b8059a0>]"
      ]
     },
     "execution_count": 28,
     "metadata": {},
     "output_type": "execute_result"
    },
    {
     "data": {
      "image/png": "[encoded data removed]",
      "text/plain": [
       "<Figure size 432x288 with 1 Axes>"
      ]
     },
     "metadata": {
      "needs_background": "light"
     },
     "output_type": "display_data"
    }
   ],
   "source": [
    "from scipy.integrate import cumtrapz\n",
    "plt.loglog(freq[1:], cumtrapz(psd_dark_avg, freq))"
   ]
  },
  {
   "cell_type": "code",
   "execution_count": 20,
   "id": "normal-favor",
   "metadata": {},
   "outputs": [],
   "source": [
    "from acoustic_entrainment import mic_response\n"
   ]
  },
  {
   "cell_type": "code",
   "execution_count": 29,
   "id": "republican-cache",
   "metadata": {},
   "outputs": [
    {
     "data": {
      "text/plain": [
       "[<matplotlib.lines.Line2D at 0x7fbf0b484dc0>]"
      ]
     },
     "execution_count": 29,
     "metadata": {},
     "output_type": "execute_result"
    },
    {
     "data": {
      "image/png": "[encoded data removed]",
      "text/plain": [
       "<Figure size 432x288 with 1 Axes>"
      ]
     },
     "metadata": {
      "needs_background": "light"
     },
     "output_type": "display_data"
    }
   ],
   "source": [
    "plt.loglog(freq, psd_dark_avg)"
   ]
  },
  {
   "cell_type": "code",
   "execution_count": 33,
   "id": "psychological-intake",
   "metadata": {},
   "outputs": [
    {
     "data": {
      "text/plain": [
       "{'tdms_file': <TdmsGroup with path /'main'>,\n",
       " 't0': array([0.        , 0.40001636, 0.80000948]),\n",
       " 'colletion_name': 'Collection channel is not set!',\n",
       " 'collection': [<time_series.TimeSeries at 0x7fc02c9a0970>,\n",
       "  <time_series.TimeSeries at 0x7fc02c9a0f70>,\n",
       "  <time_series.TimeSeries at 0x7fc02c9a04c0>],\n",
       " 'collection_name': 'Y',\n",
       " 'psd': array([1.60228881e-04, 1.29898013e-03, 1.37426055e-03, ...,\n",
       "        8.40261548e-23, 1.66170146e-22, 1.24079645e-21]),\n",
       " 'freq': array([0.00000000e+00, 2.98023259e+00, 5.96046519e+00, ...,\n",
       "        1.24999925e+07, 1.24999955e+07, 1.24999985e+07]),\n",
       " 'Navg_psd': 3}"
      ]
     },
     "execution_count": 33,
     "metadata": {},
     "output_type": "execute_result"
    }
   ],
   "source": [
    "Y."
   ]
  },
  {
   "cell_type": "code",
   "execution_count": null,
   "id": "occupied-guest",
   "metadata": {},
   "outputs": [],
   "source": []
  }
 ],
 "metadata": {
  "kernelspec": {
   "display_name": "Python 3",
   "language": "python",
   "name": "python3"
  },
  "language_info": {
   "codemirror_mode": {
    "name": "ipython",
    "version": 3
   },
   "file_extension": ".py",
   "mimetype": "text/x-python",
   "name": "python",
   "nbconvert_exporter": "python",
   "pygments_lexer": "ipython3",
   "version": "3.9.13"
  },
  "toc": {
   "base_numbering": 1,
   "nav_menu": {},
   "number_sections": true,
   "sideBar": true,
   "skip_h1_title": false,
   "title_cell": "Table of Contents",
   "title_sidebar": "Contents",
   "toc_cell": false,
   "toc_position": {},
   "toc_section_display": true,
   "toc_window_display": false
  }
 },
 "nbformat": 4,
 "nbformat_minor": 5
}
