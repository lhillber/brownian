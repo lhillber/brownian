{
 "cells": [
  {
   "cell_type": "code",
   "execution_count": 131,
   "id": "opened-office",
   "metadata": {},
   "outputs": [],
   "source": [
    "import numpy as np \n",
    "import matplotlib.pylab as plt\n",
    "import numpy as np\n",
    "from scipy.integrate import cumtrapz\n",
    "from scipy.optimize import curve_fit\n",
    "from importlib import reload\n",
    "from matplotlib import rc\n",
    "fontsize = 10\n",
    "fontstyle = {\n",
    "    \"pdf.fonttype\": 42, # type 3 pdf fonts\n",
    "    \"mathtext.default\": 'regular', # italic math\n",
    "    'mathtext.fontset': 'cm',\n",
    "    'font.family' : 'STIXGeneral',\n",
    "    \"text.usetex\": True, # latex-based math\n",
    "    # sans-serif Helvetica font\n",
    "    #\"text.latex.preamble\":\n",
    "    #    r'\\usepackage{helvet} \\usepackage{sansmath} \\sansmath',\n",
    "    #\"font.family\": \"sans-serif\",\n",
    "    # font sizes\n",
    "    \"axes.labelsize\": fontsize,\n",
    "    'axes.titlesize': fontsize,\n",
    "    \"font.size\": fontsize,\n",
    "    \"legend.fontsize\": fontsize,\n",
    "    \"xtick.labelsize\": fontsize,\n",
    "    'xtick.direction': \"inout\",\n",
    "    'xtick.top': True,\n",
    "    'xtick.major.size': 4,\n",
    "    'xtick.major.width': 0.5,\n",
    "    'xtick.minor.width': 0.5,\n",
    "    \"ytick.labelsize\": fontsize,\n",
    "    'ytick.direction': \"inout\",\n",
    "    'ytick.right': True,\n",
    "    'ytick.major.size': 4,\n",
    "    'ytick.major.width': 0.5,\n",
    "    'ytick.minor.width': 0.5,\n",
    "    \"axes.linewidth\": 0.5,\n",
    "    \"text.latex.preamble\":r'\\usepackage{upgreek}' \n",
    "}\n",
    "\n",
    "plt.rcParams.update(fontstyle)\n",
    "\n",
    "c = 3e8\n",
    "eps0 = 8.85e-12\n",
    "import sys\n",
    "sys.path.append(\"../src\")\n",
    "from tweezer_force import Domain\n",
    "from matplotlib import cm\n",
    "from matplotlib.colors import Normalize\n",
    "\n",
    "import acoustic_entrainment\n",
    "reload(acoustic_entrainment)\n",
    "from acoustic_entrainment import mic_response, mic_response_pressure, muflown_phase, muflown_sensitivity, VelocityResponse\n"
   ]
  },
  {
   "cell_type": "code",
   "execution_count": 132,
   "id": "ranging-federation",
   "metadata": {},
   "outputs": [],
   "source": [
    "# letters_lower = [r\"$\\mathrm{\\bf{%s}}$\" % lett for lett in \"abcdefghijklmnopqrstuvwxyz\"]\n",
    "letters_round = [r\"$\\mathrm{\\bf{(%s)}}$\" % lett for lett in \"abcdefghijklmnopqrstuvwxyz\"] \n",
    "letters_upper = [r\"$\\bf{%s}$\" % lett for lett in \"abcdefghijklmnopqrstuvwxyz\".upper()] \n",
    "letters_map = {\"round\": letters_round, \"upper\": letters_upper, \"lower\":letters_lower}  \n",
    "def lettering(ax, x, y, num, color=\"k\", mode=\"round\", **kwargs):     \n",
    "    letters = letters_map[mode]     \n",
    "    ax.text(x, y, letters[num], weight=\"bold\", transform=ax.transAxes,             \n",
    "            horizontalalignment=\"center\", verticalalignment=\"center\", color=color, **kwargs)"
   ]
  },
  {
   "cell_type": "code",
   "execution_count": 146,
   "id": "necessary-webcam",
   "metadata": {},
   "outputs": [],
   "source": [
    "T=300\n",
    "rho = 1700\n",
    "rho = 1050\n",
    "R=3e-6/2\n",
    "k = 10e-6\n",
    "\n",
    "Air = VelocityResponse(sensitivity=1, R=R, rho=rho, T=T, k=k)\n",
    "Water = VelocityResponse(sensitivity=1, R=R, rho=rho, T=T, k=k, c0=1480, rho_fluid=1e3, mu=1e-3)"
   ]
  },
  {
   "cell_type": "code",
   "execution_count": 147,
   "id": "encouraging-apartment",
   "metadata": {},
   "outputs": [
    {
     "name": "stdout",
     "output_type": "stream",
     "text": [
      "1.9237615641792696 -0.5300099885673839\n"
     ]
    },
    {
     "data": {
      "image/png": "[encoded data removed]",
      "text/plain": [
       "<Figure size 396x144 with 2 Axes>"
      ]
     },
     "metadata": {
      "needs_background": "light"
     },
     "output_type": "display_data"
    }
   ],
   "source": [
    "response = VelocityResponse(sensitivity=1, R=R, rho=rho, T=T, c0=c0, k=k, rho_fluid=None)\n",
    "fs = np.geomspace(1e2,2e6,100)\n",
    "fig, axs = plt.subplots(1, 2, figsize=(5.5, 2), sharex=True)\n",
    "for resp, label, color, ls, lw in zip(\n",
    "                 [\"bassetbound\",  \"stokesbound\", \"exact\"],\n",
    "                 [\"Basset\", \"Stokes\", \"Exact (unbound)\"],\n",
    "                 [\"k\", \"y\", \"C1\"],\n",
    "                 [\"-\", \"-.\", \"--\"],\n",
    "                [2,1.5,1.5]):\n",
    "    phase = response.phase(resp, fs)\n",
    "    phase = (np.unwrap(2*phase)/2)\n",
    "    if resp == \"bassetbound\":\n",
    "        phase = phase #-  np.pi\n",
    "    axs[0].loglog(fs, response.amplitude(resp, fs), label=label, c=color, ls=ls, lw=lw)\n",
    "    axs[1].semilogx(fs, phase, label=\"Basset\", c=color, ls=ls, lw=lw)\n",
    "axs[0].set_ylabel(r\"Amplitude $h$\")\n",
    "axs[1].set_ylabel(r\"Phase $\\phi$ (rad.)\")\n",
    "axs[0].set_xlabel(\"Acoustic frequency $f$ (Hz)\")\n",
    "axs[1].set_xlabel(\"Acoustic frequency $f$ (Hz)\")\n",
    "axs[0].minorticks_off()\n",
    "axs[0].set_yticks([1e-3, 1e-2, 1e-1,1])\n",
    "axs[1].set_yticks([-np.pi/2, -np.pi/4, 0, np.pi/4, np.pi/2])\n",
    "axs[1].set_xticks([1e2, 1e3, 1e4, 1e5, 1e6])\n",
    "axs[1].set_yticklabels([r\"$-\\pi/2$\", r\"$-\\pi/4$\", 0, r\"$\\pi/4$\", r\"$\\pi/2$\"]);\n",
    "axs[0].legend(frameon=False, labelspacing=0.1, handletextpad=0.3, handlelength=1.4, loc = \"lower left\", bbox_to_anchor=(0.1,-0.05))\n",
    "plt.tight_layout()\n",
    "#plt.savefig(\"figures/dissertation/transfer_function_air.pdf\", dpi=600)\n",
    "print(\n",
    "        response.amplitude(\"bassetbound\", 1e6) / response.amplitude(\"stokesbound\", 1e6),\n",
    "        (response.phase(\"bassetbound\", 1e6) - response.phase(\"stokesbound\", 1e6))\n",
    ")"
   ]
  },
  {
   "cell_type": "code",
   "execution_count": 148,
   "id": "tropical-spirit",
   "metadata": {},
   "outputs": [
    {
     "name": "stdout",
     "output_type": "stream",
     "text": [
      "1e-06 4.3982297150257095e-15\n",
      "1e-05 4.398229715025711e-12\n",
      "1e-06 4.3982297150257095e-15\n",
      "1e-05 4.398229715025711e-12\n"
     ]
    },
    {
     "data": {
      "image/png": "[encoded data removed]",
      "text/plain": [
       "<Figure size 243x194.4 with 4 Axes>"
      ]
     },
     "metadata": {
      "needs_background": "light"
     },
     "output_type": "display_data"
    }
   ],
   "source": [
    "fs_list = [np.geomspace(1e1,2e6,100), np.geomspace(1e1,5e9,100)]\n",
    "fig, axs = plt.subplots(2, 2, figsize=(3.375, 2.7), sharex=\"col\")\n",
    "ks = [1e-6, 10e-6, 100e-6]\n",
    "Rs = [1e-6, 10e-6]\n",
    "for col, response in enumerate([Air, Water]):\n",
    "    fs = fs_list[col]\n",
    "    for R, ls in zip(Rs, [\"-\",\"-.\"]):\n",
    "        response.R = R\n",
    "        print(response.R, response.m)\n",
    "        for k, color in zip(ks, [\"r\", \"g\", \"b\"]):\n",
    "            response.k = k\n",
    "            resp = \"exactbound\"\n",
    "            phase =  response.phase(resp, fs)\n",
    "            phase = (np.unwrap(2*phase)/2)\n",
    "            amp = response.amplitude(resp, fs)\n",
    "            #print(resp)\n",
    "            axs[0,col].loglog(fs, amp, label=label, c=color, ls=ls, lw=lw)\n",
    "            axs[1,col].semilogx(fs, phase, label=\"Basset\", c=color, ls=ls, lw=lw)\n",
    "            #axs[0].set_xlabel(\"Acoustic frequency $f$ (Hz)\")\n",
    "            axs[1,col].set_xlabel(\"Acoustic frequency $f$ (Hz)\")\n",
    "            axs[0,col].minorticks_off()\n",
    "            if response == Air:\n",
    "                axs[0,col].set_yticks([1e-3, 1e-2, 1e-1,1])\n",
    "                axs[1,col].set_xticks([1e2, 1e3, 1e4, 1e5, 1e6])\n",
    "                axs[0,col].set_ylabel(r\"Amplitude $h$\")\n",
    "                axs[1,col].set_ylabel(r\"Phase $\\phi$ (rad.)\")\n",
    "                \n",
    "                \n",
    "            axs[1,col].set_yticks([-np.pi/2, -np.pi/4, 0, np.pi/4, np.pi/2])\n",
    "            axs[1,col].set_yticklabels([r\"$-\\pi/2$\", r\"$-\\pi/4$\", 0, r\"$\\pi/4$\", r\"$\\pi/2$\"]);\n",
    "            #axs[0].legend(frameon=False, labelspacing=0.1, handletextpad=0.3, handlelength=1.4, loc = \"lower left\", bbox_to_anchor=(0.1,-0.05))\n",
    "            plt.tight_layout()\n",
    "            #plt.savefig(\"figures/dissertation/transfer_function_air.pdf\", dpi=600)\n",
    "           # print(\n",
    "           #         response.amplitude(\"bassetbound\", 1e6) / response.amplitude(\"stokesbound\", 1e6),\n",
    "           #         (response.phase(\"bassetbound\", 1e6) - response.phase(\"stokesbound\", 1e6))\n",
    "            #)\n"
   ]
  },
  {
   "cell_type": "code",
   "execution_count": 149,
   "id": "demanding-algeria",
   "metadata": {},
   "outputs": [
    {
     "data": {
      "text/plain": [
       "(0.7071067811865476-0.7071067811865476j)"
      ]
     },
     "execution_count": 149,
     "metadata": {},
     "output_type": "execute_result"
    }
   ],
   "source": [
    "np.sqrt(-1j)"
   ]
  },
  {
   "cell_type": "code",
   "execution_count": null,
   "id": "unlikely-garage",
   "metadata": {},
   "outputs": [],
   "source": [
    " import matplotlib\n",
    "from acoustic_entrainment import fs_orig\n",
    "fig, ax = plt.subplots(1, 1, figsize=(3.66, 2), sharex=True)\n",
    "fs = np.geomspace(fs_orig[0], fs_orig[-1], 10000)\n",
    "ax.semilogx(fs_orig, 1e3*mic_response(fs_orig), marker=\"o\", mec=\"k\", mfc=\"none\", mew=0.77, ms=4, ls=\"none\")\n",
    "ax.semilogx(fs, 1e3*mic_response(fs), c=\"k\", lw=1);\n",
    "ax.semilogx(fs, 1e3*mic_response_pressure(fs), c=\"k\", lw=1, ls=\"--\");\n",
    "ax.set_yticks([0,0.5,1,1.5])\n",
    "ax.set_ylabel(\"Sensitivity (mV/Pa)\")\n",
    "ax.set_xlabel(\"Frequency (Hz)\")\n",
    "plt.tight_layout()\n",
    "plt.savefig(\"figures/dissertation/mic_sensitivity.pdf\", dpi=600)"
   ]
  },
  {
   "cell_type": "code",
   "execution_count": null,
   "id": "individual-brook",
   "metadata": {},
   "outputs": [],
   "source": [
    "fig, axs = plt.subplots(1, 2, figsize=(5.5, 2), sharex=True)\n",
    "fs = np.geomspace(10, 20e3, 1000)\n",
    "axs[0].plot(fs, muflown_sensitivity(fs), lw=1, c=\"k\")\n",
    "axs[1].plot(fs, muflown_phase(fs),lw=1, c=\"k\")\n",
    "axs[0].set_ylabel(\"Sensitivity [V/(m/s)]\")\n",
    "axs[1].set_ylabel(\"phase (rad.)\")\n",
    "axs[0].set_xlabel(\"Frequency (Hz)\")\n",
    "axs[1].set_xlabel(\"Frequency (Hz)\")\n",
    "axs[0].set_yscale(\"log\")\n",
    "for ax in axs:\n",
    "    ax.set_xscale(\"log\")\n",
    "axs[0].tick_params(axis='x', which='minor')\n",
    "axs[1].set_yticks([-np.pi, -np.pi/2, 0, np.pi/2, np.pi])\n",
    "axs[1].set_yticklabels([r\"$-\\pi$\", r\"$-\\pi/2$\", 0, r\"$\\pi/2$\", r\"$\\pi$\"]);\n",
    "axs[0].set_xticks([1e1, 1e2, 1e3, 1e4])\n",
    "locmin = matplotlib.ticker.LogLocator(base=10.0,\n",
    "                                      subs=(0.1,0.2,0.3,0.4,0.5,0.6,0.7,0.8,0.9),\n",
    "                                      numticks=12)\n",
    "axs[0].xaxis.set_minor_locator(locmin)\n",
    "axs[0].xaxis.set_minor_formatter(matplotlib.ticker.NullFormatter())\n",
    "\n",
    "plt.tight_layout()\n",
    "lettering(axs[0], 0, 1.1, 0)\n",
    "lettering(axs[1], 0, 1.1, 1)\n",
    "plt.tight_layout()\n",
    "plt.savefig(\"figures/dissertation/muflown_sensitivity.pdf\", dpi=600)"
   ]
  },
  {
   "cell_type": "code",
   "execution_count": 6,
   "id": "acoustic-advancement",
   "metadata": {
    "scrolled": false
   },
   "outputs": [
    {
     "data": {
      "image/png": "[encoded data removed]",
      "text/plain": [
       "<Figure size 396x129.6 with 2 Axes>"
      ]
     },
     "metadata": {
      "needs_background": "light"
     },
     "output_type": "display_data"
    }
   ],
   "source": [
    "\n",
    "beta = 1.7e6\n",
    "c0, cp, cu = \"maroon\", \"goldenrod\", \"darkcyan\"\n",
    "m, mp, mu = \"o\", \"s\", \">\" \n",
    "\n",
    "\n",
    "fig, axs = plt.subplots(1,2, figsize=(5.5, 1.8), sharex=True, sharey=True)\n",
    "fs = np.geomspace(10, 1e6, 1000)\n",
    "resp =  VelocityResponse(beta, R, rho, T, k, RH=50)\n",
    "\n",
    "mask = mic_response(fs)>0\n",
    "axs[0].plot(fs[mask], 1e3*mic_response(fs)[mask], c=cp, lw=1, label=\"Microphone\");\n",
    "axs[0].plot(fs, 1e3*resp.amplitude(\"bassetbound\", fs)/(2*np.pi*fs)/resp.Z0, lw=1, c=c0)\n",
    "\n",
    "\n",
    "axs[1].plot(fs, resp.amplitude(\"bassetbound\", fs)/(2*np.pi*fs), lw=1, c=c0, label=\"Microsphere\")\n",
    "axs[1].plot(fs, muflown_sensitivity(fs), lw=1, c=cu, label=\"Microflown\")\n",
    "\n",
    "for ax in axs:\n",
    "    ax.set_yscale(\"log\")\n",
    "    ax.set_xscale(\"log\")\n",
    "    ax.set_xlabel(\"Frequency (Hz)\")\n",
    "    ax.set_xticks([1e1, 1e2, 1e3, 1e4, 1e5, 1e6])\n",
    "    ax.set_ylim(bottom=7e-4)\n",
    "    ax.set_yticks([1e2, 1e0, 1e-2, ])\n",
    "axs[0].set_ylabel(r\"$|s_p|~{(\\rm mV/Pa)}$\")\n",
    "axs[1].set_ylabel(r\"$|s_u|~{[\\rm V/(m/s)]}$\")\n",
    "\n",
    "handles,labels = [],[]\n",
    "for ax in axs:\n",
    "    for h,l in zip(*ax.get_legend_handles_labels()):\n",
    "        handles.append(h)\n",
    "        labels.append(l)\n",
    "\n",
    "plt.tight_layout(pad=1)\n",
    "plt.subplots_adjust(bottom=0.23, top=0.82)\n",
    "fig.legend(handles, labels, frameon=False, handlelength=1, ncols=3, loc=\"upper center\",\n",
    "          bbox_to_anchor=(0.5, 1.05))\n",
    "lettering(axs[0], -0.23, 1, 0)\n",
    "lettering(axs[1], -0.08, 1, 1)\n",
    "#plt.savefig(\"figures/dissertation/sensitivity_compare.pdf\", dpi=600)"
   ]
  },
  {
   "cell_type": "code",
   "execution_count": 7,
   "id": "italic-relative",
   "metadata": {},
   "outputs": [],
   "source": [
    "from scipy.integrate import cumtrapz\n",
    "from constants import kB"
   ]
  },
  {
   "cell_type": "code",
   "execution_count": null,
   "id": "optimum-latex",
   "metadata": {},
   "outputs": [],
   "source": []
  },
  {
   "cell_type": "code",
   "execution_count": 8,
   "id": "numerous-climate",
   "metadata": {},
   "outputs": [
    {
     "data": {
      "image/png": "[encoded data removed]",
      "text/plain": [
       "<Figure size 396x129.6 with 2 Axes>"
      ]
     },
     "metadata": {
      "needs_background": "light"
     },
     "output_type": "display_data"
    }
   ],
   "source": [
    "fig, axs = plt.subplots(1, 2, figsize=(5.5, 1.8), sharex=True)\n",
    "fs = np.linspace(100, 1e6, 10000)\n",
    "chis = np.array([0, 2.4e-13]) / beta**2\n",
    "resp =  VelocityResponse(1, R, rho, T, k, RH=50)\n",
    "def utop2(u):\n",
    "    return   u*resp.Z0**2\n",
    "def ptou2(p):\n",
    "    return   p/resp.Z0**2\n",
    "def utop(u):\n",
    "    return   u*resp.Z0\n",
    "def ptou(p):\n",
    "    return   p/resp.Z0\n",
    "labels = [r\"$\\chi = 0~{\\rm \\upmu V^2/Hz}$\", r\"$\\chi=0.24~{\\rm \\upmu V^2/Hz}$\"]\n",
    "for chi, ls, label in zip(chis, [\"--\", \"-\"], labels):\n",
    "    Snnu = (2*np.pi*fs)**2 * resp.Sx_basset(fs, chi=chi) / resp.amplitude(\"bassetbound\", fs)**2\n",
    "    axs[0].loglog(fs, Snnu, ls=ls, lw=1, c=c0, label=label)\n",
    "    axs[1].loglog(fs[1:], np.sqrt(cumtrapz(Snnu, x=fs)), ls=ls, lw=1, c=c0)\n",
    "ax02 =  axs[0].secondary_yaxis('right', functions=(utop2,  ptou2))\n",
    "ax12  = axs[1].secondary_yaxis('right', functions=(utop,  ptou))\n",
    "\n",
    "axs[0].set_ylabel(r\"$S_{{\\rm nn},u}~[({\\rm m/s})^2/{\\rm  Hz}]$\")\n",
    "axs[0]. tick_params(right=False)\n",
    "axs[0].set_yticks([1e-11, 1e-10, 1e-9, 1e-8])\n",
    "axs[0].set_xticks([1e2, 1e3, 1e4, 1e5, 1e6])\n",
    "axs[0].set_ylim(bottom=5e-12)\n",
    "ax02.set_ylabel(r\"$S_{{\\rm nn},p}~({\\rm Pa}^2/{\\rm  Hz})$\")\n",
    "ax02.set_yticks([1e-6, 1e-5,1e-4, 1e-3,   1e-2])\n",
    "axs[0].set_xlabel(\"Frequency (Hz)\")\n",
    "\n",
    "axs[1].set_ylabel(r\"$u_{\\rm min}~{\\rm (m/s)}$\")\n",
    "axs[1].tick_params(right=False)\n",
    "axs[1].set_yticks([1e-4, 1e-3, 1e-2, 1e-1])\n",
    "ax12.set_ylabel(r\"$p_{\\rm min}~{\\rm (Pa)}$\") \n",
    "ax12.set_yticks([1e-2,1e-1, 1e0, 1e1, 1e2])\n",
    "axs[1].set_ylim(2e-5, 5e-1)\n",
    "axs[1].set_xlabel(\"Frequency (Hz)\")\n",
    "ax12.minorticks_off()\n",
    "ax02.minorticks_off()\n",
    "axs[0].minorticks_off()\n",
    "axs[1].minorticks_off()\n",
    "\n",
    "axs[0].legend(frameon=False, handlelength=0.7, handletextpad=0.2, loc=\"upper center\",\n",
    "              bbox_to_anchor=(0.46, 1.05))\n",
    "\n",
    "\n",
    "lettering(axs[0], -0.1, 1, 0)\n",
    "lettering(axs[1], -0.1, 1, 1)\n",
    "plt.tight_layout(pad = 0.3)\n",
    "plt.subplots_adjust(wspace=1)\n",
    "\n",
    "#plt.savefig(\"figures/dissertation/acoustic_sensing_limits.pdf\", dpi=600)"
   ]
  },
  {
   "cell_type": "code",
   "execution_count": 25,
   "id": "governing-handbook",
   "metadata": {},
   "outputs": [
    {
     "data": {
      "image/png": "[encoded data removed]",
      "text/plain": [
       "<Figure size 396x237.6 with 1 Axes>"
      ]
     },
     "metadata": {
      "needs_background": "light"
     },
     "output_type": "display_data"
    }
   ],
   "source": [
    "plt.figure(figsize=(5.5, 3.3))\n",
    "Snnu = (2*np.pi*fs)**2 * resp.Sx_basset(fs, chi=chi) / resp.amplitude(\"bassetbound\", fs)**2\n",
    "plt.loglog(fs, np.sqrt(Snnu)*resp.Z0*(np.pi*resp.R**2), ls=ls, lw=1, c=c0, label=label)\n",
    "plt.ylabel(r\"Ultrasonic force sensitivity (N ${\\rm Hz^{-1/2}}$)\")\n",
    "plt.xlabel(\"Frequency (Hz)\")\n",
    "plt.tight_layout()\n",
    "plt.savefig(\"figures/force_sensitivity.pdf\")"
   ]
  },
  {
   "cell_type": "code",
   "execution_count": 136,
   "id": "extra-sacramento",
   "metadata": {},
   "outputs": [
    {
     "data": {
      "text/plain": [
       "array([-20.98778245])"
      ]
     },
     "execution_count": 136,
     "metadata": {},
     "output_type": "execute_result"
    }
   ],
   "source": [
    "f = np.array([19.9, 20])\n",
    "20*np.log10(np.sqrt(cumtrapz((2*np.pi*f)**2 * resp.Sx_basset(f, chi=chi) / resp.amplitude(\"bassetbound\", f)**2, f))/20e-6\n",
    "           )"
   ]
  },
  {
   "cell_type": "code",
   "execution_count": 137,
   "id": "stone-craft",
   "metadata": {},
   "outputs": [
    {
     "data": {
      "text/plain": [
       "50.0"
      ]
     },
     "execution_count": 137,
     "metadata": {},
     "output_type": "execute_result"
    }
   ],
   "source": [
    "1500/30"
   ]
  },
  {
   "cell_type": "code",
   "execution_count": 135,
   "id": "eleven-purpose",
   "metadata": {},
   "outputs": [
    {
     "data": {
      "text/plain": [
       "5.313676660424688e-07"
      ]
     },
     "execution_count": 135,
     "metadata": {},
     "output_type": "execute_result"
    }
   ],
   "source": [
    "(0.1*resp.Z0**2 * 4*kB*resp.T/resp.gamma)"
   ]
  },
  {
   "cell_type": "code",
   "execution_count": 90,
   "id": "controlling-expansion",
   "metadata": {},
   "outputs": [
    {
     "data": {
      "text/plain": [
       "-7.77392970823458"
      ]
     },
     "execution_count": 90,
     "metadata": {},
     "output_type": "execute_result"
    }
   ],
   "source": [
    "np.log10(1e-3**2/420 * 3.1415 * (1.5e-6)**2 / 1e-12)"
   ]
  },
  {
   "cell_type": "code",
   "execution_count": 95,
   "id": "broad-keeping",
   "metadata": {},
   "outputs": [
    {
     "data": {
      "text/plain": [
       "76.45517630874596"
      ]
     },
     "execution_count": 95,
     "metadata": {},
     "output_type": "execute_result"
    }
   ],
   "source": [
    "-60 - 10 * np.log10(2*np.pi*(60e-9)**2)"
   ]
  },
  {
   "cell_type": "code",
   "execution_count": 114,
   "id": "objective-question",
   "metadata": {},
   "outputs": [
    {
     "data": {
      "text/plain": [
       "-57.65190624645183"
      ]
     },
     "execution_count": 114,
     "metadata": {},
     "output_type": "execute_result"
    }
   ],
   "source": [
    "PP = 1\n",
    "10*np.log10( 1000*1480 * (1.8*1e-9 * 9e-6 / (6*1e-3))**2 / (2*np.pi) / 1e-12)"
   ]
  },
  {
   "cell_type": "code",
   "execution_count": 117,
   "id": "happy-alexander",
   "metadata": {},
   "outputs": [
    {
     "data": {
      "text/plain": [
       "2.523829377920772"
      ]
     },
     "execution_count": 117,
     "metadata": {},
     "output_type": "execute_result"
    }
   ],
   "source": [
    "20 * 20e-6 * 10**(76/20)"
   ]
  },
  {
   "cell_type": "code",
   "execution_count": 118,
   "id": "israeli-customs",
   "metadata": {},
   "outputs": [
    {
     "data": {
      "text/plain": [
       "1.7171545120070778e-18"
      ]
     },
     "execution_count": 118,
     "metadata": {},
     "output_type": "execute_result"
    }
   ],
   "source": [
    "1000*1480 * (1.8*1e-9 * 9e-6 / (6*1e-3))**2 / (2*np.pi)"
   ]
  },
  {
   "cell_type": "code",
   "execution_count": 120,
   "id": "driving-pharmacology",
   "metadata": {},
   "outputs": [
    {
     "data": {
      "text/plain": [
       "20.6355976938796"
      ]
     },
     "execution_count": 120,
     "metadata": {},
     "output_type": "execute_result"
    }
   ],
   "source": [
    "np.sqrt(2*1.72e-18 * 1.4e6/(np.pi*(60e-9)**2))"
   ]
  },
  {
   "cell_type": "code",
   "execution_count": null,
   "id": "suspected-wilson",
   "metadata": {},
   "outputs": [],
   "source": []
  }
 ],
 "metadata": {
  "kernelspec": {
   "display_name": "Python 3",
   "language": "python",
   "name": "python3"
  },
  "language_info": {
   "codemirror_mode": {
    "name": "ipython",
    "version": 3
   },
   "file_extension": ".py",
   "mimetype": "text/x-python",
   "name": "python",
   "nbconvert_exporter": "python",
   "pygments_lexer": "ipython3",
   "version": "3.9.13"
  }
 },
 "nbformat": 4,
 "nbformat_minor": 5
}
