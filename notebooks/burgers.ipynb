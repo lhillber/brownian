{
 "cells": [
  {
   "cell_type": "markdown",
   "id": "anonymous-invasion",
   "metadata": {},
   "source": [
    "# Solving Burger's Equation"
   ]
  },
  {
   "cell_type": "markdown",
   "id": "healthy-tanzania",
   "metadata": {},
   "source": [
    "Burger's equation in convective (first equailty) and conservative (second equality) form reads\n",
    "\\begin{equation}\n",
    "    \\frac{\\partial P}{\\partial t} = -P \\frac{\\partial P}{\\partial x} \n",
    "                                  = -\\frac{1}{2}\\frac{\\partial P^2}{\\partial t} .\n",
    "    \\end{equation}\n",
    "In otherwords, the _flux function_ $F(P) := P^2/2$ is conserved:\n",
    "\\begin{equation}\n",
    "    \\frac{\\partial P}{\\partial t} + \\frac{\\partial F(P)}{\\partial x} = 0 . \n",
    "    \\end{equation}"
   ]
  },
  {
   "cell_type": "code",
   "execution_count": 222,
   "id": "given-silver",
   "metadata": {},
   "outputs": [],
   "source": [
    "import numpy as np\n",
    "import matplotlib.pyplot as plt\n",
    "\n",
    "L = 1\n",
    "N = 3*90\n",
    "\n",
    "T = 1\n",
    "M = 3*100\n",
    "\n",
    "xs = np.linspace(0, L, N)\n",
    "ts = np.linspace(0, T, M)\n",
    "\n",
    "\n",
    "def F(P):\n",
    "    # Flux function for Burger's equation\n",
    "    return -P*P / 2"
   ]
  },
  {
   "cell_type": "code",
   "execution_count": 210,
   "id": "representative-nursery",
   "metadata": {},
   "outputs": [
    {
     "data": {
      "text/plain": [
       "[<matplotlib.lines.Line2D at 0x7f350c066ee0>]"
      ]
     },
     "execution_count": 210,
     "metadata": {},
     "output_type": "execute_result"
    },
    {
     "data": {
      "image/png": "[encoded data removed]",
      "text/plain": [
       "<Figure size 432x288 with 1 Axes>"
      ]
     },
     "metadata": {
      "needs_background": "light"
     },
     "output_type": "display_data"
    }
   ],
   "source": [
    "# A few possible initial conditions:\n",
    "\n",
    "def Nwave(x, x0=0.05, d=0.05, h=1):\n",
    "    out = np.zeros_like(x)\n",
    "    f = h -(x-x0)* h/(2*d)\n",
    "    mask = np.logical_and(f<=1, f>=-1)\n",
    "    out[mask] = f[mask]\n",
    "    return out\n",
    "\n",
    "def sin(x, x0=0.15, d=0.05, h=1):\n",
    "    out = np.zeros_like(x)\n",
    "    f = -h*np.sin((x-x0)*np.pi/(d*2))\n",
    "    mask = np.logical_and(x<=(x0+d*2), x>=(x0-d*2))\n",
    "    out[mask] = f[mask]\n",
    "    return out\n",
    "\n",
    "\n",
    "plt.plot(xs, sin(xs), marker=\".\")\n",
    "plt.plot(xs, Nwave(xs), marker=\".\")"
   ]
  },
  {
   "cell_type": "code",
   "execution_count": 211,
   "id": "coated-lecture",
   "metadata": {},
   "outputs": [],
   "source": [
    "dx = np.diff(xs)[0]\n",
    "dt = np.diff(ts)[0]\n",
    "\n",
    "G = 746.9\n",
    "D1 = 0.04\n",
    "D2 = 8.43\n",
    "th1 = 0.4\n",
    "th2 = 35.4\n",
    "xs_r0 = 4.33"
   ]
  },
  {
   "cell_type": "code",
   "execution_count": 221,
   "id": "active-validity",
   "metadata": {},
   "outputs": [],
   "source": [
    "# A few possible solvers\n",
    "\n",
    "def upwind(P, n):\n",
    "    # assuming dF/dP >0\n",
    "    return P[n, 1:-1] - dt/dx * ( F(P[n, 1:-1]) -  F(P[n, :-2]) )\n",
    "\n",
    "def lax_wendroff(P, n):\n",
    "    # \"Two step method\"\n",
    "    Pm = (P[n, :-2] + P[n, 1:-1]) / 2 - dt / (2*dx) * ( F(P[n, 1:-1]) -  F(P[n, :-2]) )\n",
    "    Pp = (P[n, 1:-1] + P[n, 2:]) / 2 - dt / (2*dx) * ( F(P[n, 2:]) -  F(P[n, 1:-1]) )\n",
    "    return P[n, 1:-1] - dt/dx * (F(Pp) - F(Pm))\n",
    "    \n",
    "def lax_friedrich(P, n):\n",
    "    # Best choice to avoid unwanted high-frequencies due to dissipation\n",
    "    return (P[n, :-2] + P[n, 2:]) / 2 - dt / (2*dx) * ( F(P[n, 2:]) -  F(P[n, :-2]) )\n",
    "\n",
    "\n",
    "def thermv(P, n):\n",
    "    if n == 0:\n",
    "        Pm = P[n, 1:-1]\n",
    "    else:\n",
    "        Pm = P[n-1, 1:-1]\n",
    "    return 2 * dt * G / dx * np.exp(-xs_r0 * xs[1:-1]) * (P[n, 1:-1] - P[n, :-2]) + 2*P[n, 1:-1] - Pm\n",
    "    \n",
    "        "
   ]
  },
  {
   "cell_type": "code",
   "execution_count": 223,
   "id": "portable-karaoke",
   "metadata": {},
   "outputs": [
    {
     "name": "stderr",
     "output_type": "stream",
     "text": [
      "<ipython-input-221-cf7d266189d6>:23: RuntimeWarning: overflow encountered in subtract\n",
      "  return 2 * dt * G / dx * np.exp(-xs_r0 * xs[1:-1]) * (P[n, 1:-1] - P[n, :-2]) + 2*P[n, 1:-1] - Pm\n",
      "<ipython-input-221-cf7d266189d6>:23: RuntimeWarning: overflow encountered in multiply\n",
      "  return 2 * dt * G / dx * np.exp(-xs_r0 * xs[1:-1]) * (P[n, 1:-1] - P[n, :-2]) + 2*P[n, 1:-1] - Pm\n",
      "<ipython-input-221-cf7d266189d6>:23: RuntimeWarning: invalid value encountered in subtract\n",
      "  return 2 * dt * G / dx * np.exp(-xs_r0 * xs[1:-1]) * (P[n, 1:-1] - P[n, :-2]) + 2*P[n, 1:-1] - Pm\n",
      "<ipython-input-221-cf7d266189d6>:23: RuntimeWarning: invalid value encountered in add\n",
      "  return 2 * dt * G / dx * np.exp(-xs_r0 * xs[1:-1]) * (P[n, 1:-1] - P[n, :-2]) + 2*P[n, 1:-1] - Pm\n"
     ]
    }
   ],
   "source": [
    "#solver = upwind\n",
    "#solver = lax_wendroff\n",
    "solver = lax_friedrich\n",
    "\n",
    "P = np.zeros((M, N))\n",
    "Z = = np.zeros((, N))\n",
    "P[0, :] = sin(xs)\n",
    "for n, t in enumerate(ts[1:-1]):\n",
    "    #P[n, 1:-1] = solver(P, n)    \n",
    "    P[n+1, 1:-1] = thermv(P, n)"
   ]
  },
  {
   "cell_type": "code",
   "execution_count": 224,
   "id": "smoking-upgrade",
   "metadata": {},
   "outputs": [
    {
     "data": {
      "image/png": "[encoded data removed]",
      "text/plain": [
       "<Figure size 432x288 with 1 Axes>"
      ]
     },
     "metadata": {
      "needs_background": "light"
     },
     "output_type": "display_data"
    }
   ],
   "source": [
    "for p in P[:3]:\n",
    "    plt.plot(xs, p)"
   ]
  },
  {
   "cell_type": "code",
   "execution_count": 171,
   "id": "found-screw",
   "metadata": {},
   "outputs": [],
   "source": [
    "def make_A(r, q, M):\n",
    "    d = (1+2*r) * np.ones(M)\n",
    "    d[0] = 1\n",
    "    d[-1] = 1\n",
    "    dup = -(r-q) * np.ones(M-1)\n",
    "    dup[0] = 0\n",
    "    dlo = -(r+q) * np.ones(M-1)\n",
    "    dlo[-1] = 0\n",
    "    return np.diag(d) + np.diag(dup, 1) + np.diag(dlo, -1)\n",
    "\n",
    "def make_B(r, q, M):\n",
    "    d = (1-2*r) * np.ones(M)\n",
    "    d[0] = 1\n",
    "    d[-1] = 1\n",
    "    dup =(r+q) * np.ones(M-1)\n",
    "    dup[0] = 0\n",
    "    dlo = (r-q) * np.ones(M-1)\n",
    "    dlo[-1] = 0\n",
    "    return np.diag(d) + np.diag(dup, 1) + np.diag(dlo, -1)"
   ]
  },
  {
   "cell_type": "code",
   "execution_count": 172,
   "id": "pleased-moses",
   "metadata": {},
   "outputs": [
    {
     "data": {
      "text/plain": [
       "array([[ 1. ,  0. ,  0. ,  0. ,  0. ],\n",
       "       [-3.5,  2. ,  2.5,  0. ,  0. ],\n",
       "       [ 0. , -3.5,  2. ,  2.5,  0. ],\n",
       "       [ 0. ,  0. , -3.5,  2. ,  2.5],\n",
       "       [ 0. ,  0. ,  0. ,  0. ,  1. ]])"
      ]
     },
     "execution_count": 172,
     "metadata": {},
     "output_type": "execute_result"
    }
   ],
   "source": [
    "make_A(0.5, 3, 5)"
   ]
  },
  {
   "cell_type": "code",
   "execution_count": 179,
   "id": "unique-still",
   "metadata": {},
   "outputs": [],
   "source": [
    "\n",
    "\n",
    "r0 = dx / (2*G*dt*dt)\n",
    "q0 = 0\n",
    "A0 = make_A(0.5, 3, M)\n",
    "B0 = make_B(0.5, 3, M)\n",
    "\n",
    "r1 = D1 * th1 * dx / (2*dt*dt)\n",
    "q1 = th1 / (2*dt)\n",
    "\n",
    "\n",
    "r1 = D1 * th1 * dx / (2*dt*dt)\n",
    "q1 = th1 / (2*dt)"
   ]
  },
  {
   "cell_type": "code",
   "execution_count": 195,
   "id": "fleet-change",
   "metadata": {},
   "outputs": [
    {
     "data": {
      "text/plain": [
       "[<matplotlib.lines.Line2D at 0x7f35077bac40>]"
      ]
     },
     "execution_count": 195,
     "metadata": {},
     "output_type": "execute_result"
    },
    {
     "data": {
      "image/png": "[encoded data removed]",
      "text/plain": [
       "<Figure size 432x288 with 1 Axes>"
      ]
     },
     "metadata": {
      "needs_background": "light"
     },
     "output_type": "display_data"
    }
   ],
   "source": [
    "Ms = np.linspace(1,2, 100)\n",
    "plt.plot(3*344 / 2 * np.sqrt(Ms - 1))"
   ]
  },
  {
   "cell_type": "code",
   "execution_count": 206,
   "id": "exposed-bangladesh",
   "metadata": {},
   "outputs": [
    {
     "data": {
      "text/plain": [
       "[<matplotlib.lines.Line2D at 0x7f35072b3a30>]"
      ]
     },
     "execution_count": 206,
     "metadata": {},
     "output_type": "execute_result"
    },
    {
     "data": {
      "image/png": "[encoded data removed]",
      "text/plain": [
       "<Figure size 432x288 with 1 Axes>"
      ]
     },
     "metadata": {
      "needs_background": "light"
     },
     "output_type": "display_data"
    }
   ],
   "source": [
    "def Nwave(x, x0=0.0, d=0.05, h=1):\n",
    "    out = np.zeros_like(x)\n",
    "    f = h - (x-x0)* h/(2*d)\n",
    "    mask = np.logical_and(f<=1, f>=-1)\n",
    "    out[mask] = f[mask]\n",
    "    return out\n",
    "\n",
    "c=1\n",
    "ts = np.linspace(0, 5, 1000)\n",
    "plt.plot(ts, Nwave(0-c*ts, x0=-1))"
   ]
  },
  {
   "cell_type": "code",
   "execution_count": null,
   "id": "unique-saturn",
   "metadata": {},
   "outputs": [],
   "source": []
  }
 ],
 "metadata": {
  "kernelspec": {
   "display_name": "Python 3",
   "language": "python",
   "name": "python3"
  },
  "language_info": {
   "codemirror_mode": {
    "name": "ipython",
    "version": 3
   },
   "file_extension": ".py",
   "mimetype": "text/x-python",
   "name": "python",
   "nbconvert_exporter": "python",
   "pygments_lexer": "ipython3",
   "version": "3.9.2"
  },
  "toc": {
   "base_numbering": 1,
   "nav_menu": {},
   "number_sections": true,
   "sideBar": true,
   "skip_h1_title": false,
   "title_cell": "Table of Contents",
   "title_sidebar": "Contents",
   "toc_cell": false,
   "toc_position": {},
   "toc_section_display": true,
   "toc_window_display": false
  }
 },
 "nbformat": 4,
 "nbformat_minor": 5
}
